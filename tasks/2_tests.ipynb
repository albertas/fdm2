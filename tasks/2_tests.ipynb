{
 "cells": [
  {
   "cell_type": "markdown",
   "metadata": {
    "slideshow": {
     "slide_type": "subslide"
    }
   },
   "source": [
    "### Tests in Python\n"
   ]
  },
  {
   "cell_type": "markdown",
   "metadata": {
    "slideshow": {
     "slide_type": "subslide"
    }
   },
   "source": [
    "## What is a test"
   ]
  },
  {
   "cell_type": "markdown",
   "metadata": {
    "slideshow": {
     "slide_type": "fragment"
    }
   },
   "source": [
    "A **test** (or **automated test**) is a function/method, which calls your code with custom arguments and checks wheather returned result is correct."
   ]
  },
  {
   "cell_type": "code",
   "execution_count": 56,
   "metadata": {
    "slideshow": {
     "slide_type": "fragment"
    }
   },
   "outputs": [
    {
     "name": "stdout",
     "output_type": "stream",
     "text": [
      "True\n",
      "True\n"
     ]
    }
   ],
   "source": [
    "def buy_fruits(stock, order):\n",
    "    updated_stock = stock.copy()\n",
    "    for fruit, count in order.items():\n",
    "        if stock.get(fruit, 0) < count:\n",
    "            return False, stock\n",
    "        else:\n",
    "            updated_stock[fruit] -= count\n",
    "    return True, updated_stock\n",
    "\n",
    "def test_buy_fruits():\n",
    "    stock = {'apples': 5, 'oranges': 3}\n",
    "    order = {'apples': 1, 'oranges': 1}\n",
    "    \n",
    "    success, updated_stock = buy_fruits(stock, order)\n",
    "    \n",
    "    print(success == True)\n",
    "    print(updated_stock == {'apples': 4, 'oranges': 2})\n",
    "    \n",
    "test_buy_fruits()"
   ]
  },
  {
   "cell_type": "markdown",
   "metadata": {
    "slideshow": {
     "slide_type": "subslide"
    }
   },
   "source": [
    "## Why tests are important?"
   ]
  },
  {
   "cell_type": "markdown",
   "metadata": {
    "slideshow": {
     "slide_type": "fragment"
    }
   },
   "source": [
    "* Tests allow you to check wether your code is working (or still working) correctly\n",
    "    * After code modifications it is clear if you have broke something\n",
    "    * You can detect whether the newer versions of dependencies are still compatible with your code\n",
    "    * It allows you to detect breaking places and fix them fast"
   ]
  },
  {
   "cell_type": "markdown",
   "metadata": {
    "slideshow": {
     "slide_type": "fragment"
    }
   },
   "source": [
    "* Tests allow developers to check if your code is still working after their modifications\n",
    "    * If a colleague wants to add a feature to your code - he can see if your code still works after an update\n",
    "    * When you abandon your code for some time it gets unfamiliar\n",
    "    * When code base gets larger - a chance to break something increases. Tests are vital in this case."
   ]
  },
  {
   "cell_type": "markdown",
   "metadata": {
    "slideshow": {
     "slide_type": "fragment"
    }
   },
   "source": [
    "* Tests might be treated as examples how your code could be used\n",
    "    * Tests should cover all basic usecases of your code"
   ]
  },
  {
   "cell_type": "code",
   "execution_count": 57,
   "metadata": {
    "slideshow": {
     "slide_type": "subslide"
    }
   },
   "outputs": [],
   "source": [
    "def buy_fruits(stock, order):\n",
    "    updated_stock = stock.copy()\n",
    "    for fruit, count in order.items():\n",
    "        if stock.get(fruit, 0) < count:\n",
    "            return False, stock\n",
    "        else:\n",
    "            updated_stock[fruit] -= count\n",
    "    return False, updated_stock   # Made a mistake when refacotring code"
   ]
  },
  {
   "cell_type": "code",
   "execution_count": 59,
   "metadata": {
    "slideshow": {
     "slide_type": "fragment"
    }
   },
   "outputs": [
    {
     "name": "stdout",
     "output_type": "stream",
     "text": [
      "False\n",
      "True\n"
     ]
    }
   ],
   "source": [
    "def test_buy_fruits():   \n",
    "    stock = {'apples': 5, 'oranges': 3}\n",
    "    order = {'apples': 1, 'oranges': 1}\n",
    "    \n",
    "    success, updated_stock = buy_fruits(stock, order)\n",
    "    \n",
    "    print(success == True)\n",
    "    print(updated_stock == {'apples': 4, 'oranges': 2})\n",
    "    \n",
    "test_buy_fruits()"
   ]
  },
  {
   "cell_type": "markdown",
   "metadata": {
    "slideshow": {
     "slide_type": "fragment"
    }
   },
   "source": [
    "Test shows that one of the checks returned False. However, in this case it is easy to miss it."
   ]
  },
  {
   "cell_type": "code",
   "execution_count": 61,
   "metadata": {
    "slideshow": {
     "slide_type": "subslide"
    }
   },
   "outputs": [
    {
     "ename": "AssertionError",
     "evalue": "",
     "output_type": "error",
     "traceback": [
      "\u001b[1;31m---------------------------------------------------------------------------\u001b[0m",
      "\u001b[1;31mAssertionError\u001b[0m                            Traceback (most recent call last)",
      "\u001b[1;32m<ipython-input-61-7b398ef3c851>\u001b[0m in \u001b[0;36m<module>\u001b[1;34m\u001b[0m\n\u001b[0;32m      8\u001b[0m     \u001b[1;32massert\u001b[0m\u001b[1;33m(\u001b[0m\u001b[0mupdated_stock\u001b[0m \u001b[1;33m==\u001b[0m \u001b[1;33m{\u001b[0m\u001b[1;34m'apples'\u001b[0m\u001b[1;33m:\u001b[0m \u001b[1;36m4\u001b[0m\u001b[1;33m,\u001b[0m \u001b[1;34m'oranges'\u001b[0m\u001b[1;33m:\u001b[0m \u001b[1;36m2\u001b[0m\u001b[1;33m}\u001b[0m\u001b[1;33m)\u001b[0m\u001b[1;33m\u001b[0m\u001b[1;33m\u001b[0m\u001b[0m\n\u001b[0;32m      9\u001b[0m \u001b[1;33m\u001b[0m\u001b[0m\n\u001b[1;32m---> 10\u001b[1;33m \u001b[0mtest_buy_fruits\u001b[0m\u001b[1;33m(\u001b[0m\u001b[1;33m)\u001b[0m\u001b[1;33m\u001b[0m\u001b[1;33m\u001b[0m\u001b[0m\n\u001b[0m",
      "\u001b[1;32m<ipython-input-61-7b398ef3c851>\u001b[0m in \u001b[0;36mtest_buy_fruits\u001b[1;34m()\u001b[0m\n\u001b[0;32m      5\u001b[0m     \u001b[0msuccess\u001b[0m\u001b[1;33m,\u001b[0m \u001b[0mupdated_stock\u001b[0m \u001b[1;33m=\u001b[0m \u001b[0mbuy_fruits\u001b[0m\u001b[1;33m(\u001b[0m\u001b[0mstock\u001b[0m\u001b[1;33m,\u001b[0m \u001b[0morder\u001b[0m\u001b[1;33m)\u001b[0m\u001b[1;33m\u001b[0m\u001b[1;33m\u001b[0m\u001b[0m\n\u001b[0;32m      6\u001b[0m \u001b[1;33m\u001b[0m\u001b[0m\n\u001b[1;32m----> 7\u001b[1;33m     \u001b[1;32massert\u001b[0m\u001b[1;33m(\u001b[0m\u001b[0msuccess\u001b[0m \u001b[1;33m==\u001b[0m \u001b[1;32mTrue\u001b[0m\u001b[1;33m)\u001b[0m   \u001b[1;31m# assert raises error if False, does nothing otherwise\u001b[0m\u001b[1;33m\u001b[0m\u001b[1;33m\u001b[0m\u001b[0m\n\u001b[0m\u001b[0;32m      8\u001b[0m     \u001b[1;32massert\u001b[0m\u001b[1;33m(\u001b[0m\u001b[0mupdated_stock\u001b[0m \u001b[1;33m==\u001b[0m \u001b[1;33m{\u001b[0m\u001b[1;34m'apples'\u001b[0m\u001b[1;33m:\u001b[0m \u001b[1;36m4\u001b[0m\u001b[1;33m,\u001b[0m \u001b[1;34m'oranges'\u001b[0m\u001b[1;33m:\u001b[0m \u001b[1;36m2\u001b[0m\u001b[1;33m}\u001b[0m\u001b[1;33m)\u001b[0m\u001b[1;33m\u001b[0m\u001b[1;33m\u001b[0m\u001b[0m\n\u001b[0;32m      9\u001b[0m \u001b[1;33m\u001b[0m\u001b[0m\n",
      "\u001b[1;31mAssertionError\u001b[0m: "
     ]
    }
   ],
   "source": [
    "def test_buy_fruits():\n",
    "    stock = {'apples': 5, 'oranges': 3}\n",
    "    order = {'apples': 1, 'oranges': 1}\n",
    "    \n",
    "    success, updated_stock = buy_fruits(stock, order)\n",
    "    \n",
    "    assert(success == True)   # assert raises error if False, does nothing otherwise\n",
    "    assert(updated_stock == {'apples': 4, 'oranges': 2})\n",
    "    \n",
    "test_buy_fruits()"
   ]
  },
  {
   "cell_type": "code",
   "execution_count": 70,
   "metadata": {
    "slideshow": {
     "slide_type": "subslide"
    }
   },
   "outputs": [],
   "source": [
    "def buy_fruits(stock, order):\n",
    "    updated_stock = stock.copy()\n",
    "    for fruit, count in order.items():\n",
    "        if stock.get(fruit, 0) < count:\n",
    "            return False, stock\n",
    "        else:\n",
    "            updated_stock[fruit] -= count\n",
    "    return True, updated_stock  # Fixed the mistake"
   ]
  },
  {
   "cell_type": "code",
   "execution_count": 66,
   "metadata": {
    "slideshow": {
     "slide_type": "fragment"
    }
   },
   "outputs": [
    {
     "name": "stdout",
     "output_type": "stream",
     "text": [
      "All tests have passed successfully!\n"
     ]
    }
   ],
   "source": [
    "def test_buy_fruits():\n",
    "    stock = {'apples': 5, 'oranges': 3}\n",
    "    success, updated_stock = buy_fruits(stock, {'apples': 1, 'oranges': 1})\n",
    "    assert(success == True)   # assert raises error if False, does nothing otherwise\n",
    "    assert(updated_stock == {'apples': 4, 'oranges': 2})\n",
    "    print('All tests have passed successfully!')\n",
    "    \n",
    "test_buy_fruits()"
   ]
  },
  {
   "cell_type": "markdown",
   "metadata": {
    "slideshow": {
     "slide_type": "subslide"
    }
   },
   "source": [
    "### Several test cases can be covered by a test"
   ]
  },
  {
   "cell_type": "code",
   "execution_count": 75,
   "metadata": {
    "slideshow": {
     "slide_type": "fragment"
    }
   },
   "outputs": [
    {
     "name": "stdout",
     "output_type": "stream",
     "text": [
      "True\n",
      "True\n",
      "True\n",
      "True\n"
     ]
    }
   ],
   "source": [
    "def test_buy_fruits():   # Several cases can be tested\n",
    "    stock = {'apples': 5, 'oranges': 3}\n",
    "    order = {'apples': 1, 'oranges': 1}\n",
    "    \n",
    "    success, updated_stock = buy_fruits(stock, order)\n",
    "    \n",
    "    print(success == True)\n",
    "    print(updated_stock == {'apples': 4, 'oranges': 2})\n",
    "    \n",
    "    # Case when order cannot be fullfiled\n",
    "    order2 = {'apples': 1, 'lemons': 1}\n",
    "    success, updated_stock = buy_fruits(stock, order2)\n",
    "    \n",
    "    print(success == False)\n",
    "    print(updated_stock == {'apples': 5, 'oranges': 3})\n",
    "    \n",
    "test_buy_fruits()"
   ]
  },
  {
   "cell_type": "markdown",
   "metadata": {
    "slideshow": {
     "slide_type": "subslide"
    }
   },
   "source": [
    "### Each test case can be broken into blocks GIVEN, WHEN, THEN for readability"
   ]
  },
  {
   "cell_type": "code",
   "execution_count": 76,
   "metadata": {
    "slideshow": {
     "slide_type": "fragment"
    }
   },
   "outputs": [],
   "source": [
    "def test_buy_fruits():\n",
    "    # GIVEN\n",
    "    stock = {'apples': 5, 'oranges': 3}\n",
    "    order = {'apples': 1, 'oranges': 1}\n",
    "    \n",
    "    # WHEN\n",
    "    success, updated_stock = buy_fruits(stock, order)\n",
    "    \n",
    "    # THEN\n",
    "    assert(success == True)\n",
    "    assert(updated_stock == {'apples': 4, 'oranges': 2})\n",
    "    \n",
    "test_buy_fruits()"
   ]
  },
  {
   "cell_type": "markdown",
   "metadata": {
    "slideshow": {
     "slide_type": "fragment"
    }
   },
   "source": [
    "Test names have to start with `test_`, its a naming convention used by test runners (which automatically collects and runs the tests)."
   ]
  },
  {
   "cell_type": "markdown",
   "metadata": {
    "slideshow": {
     "slide_type": "subslide"
    }
   },
   "source": [
    "### Writting tests using `unittest` package (its built-in)"
   ]
  },
  {
   "cell_type": "markdown",
   "metadata": {
    "slideshow": {
     "slide_type": "fragment"
    }
   },
   "source": [
    "* `unittest` provides `TestCase` class, which implements helper methods.\n",
    "\n",
    "* Tests should be written as methods of `TestCase` class.\n",
    "\n",
    "* Test runners makes messages of failing tests to be user friendly.\n",
    "\n",
    "* `TestCase` state can be used to store data useful for tests."
   ]
  },
  {
   "cell_type": "code",
   "execution_count": 95,
   "metadata": {
    "slideshow": {
     "slide_type": "fragment"
    }
   },
   "outputs": [
    {
     "name": "stdout",
     "output_type": "stream",
     "text": [
      "\n",
      "tests/test_assert_statements.py::MyTestCase::test_assert_statements PASSED\n",
      "\n",
      "========================================= 1 passed in 0.10 seconds ====================================================\n",
      "\n"
     ]
    }
   ],
   "source": [
    "from unittest import TestCase\n",
    "\n",
    "class MyTestCase(TestCase):\n",
    "    def test_assert_statements(self):\n",
    "        self.assertTrue(1 >= 1)\n",
    "        self.assertFalse(1 >= 2)\n",
    "        self.assertEqual(1, 1)"
   ]
  },
  {
   "cell_type": "code",
   "execution_count": 93,
   "metadata": {
    "scrolled": false,
    "slideshow": {
     "slide_type": "subslide"
    }
   },
   "outputs": [
    {
     "name": "stdout",
     "output_type": "stream",
     "text": [
      "\n",
      "================================================= FAILURES =============================================================\n",
      "________________________________________ MyTestCase.test_assert_false __________________________________________________\n",
      "tests/test_assert_false.py:6: in test_assert_false\n",
      "    self.assertEqual(1, 2)\n",
      "E   AssertionError: 1 != 2\n",
      "============================================ 1 failed in 0.31 seconds ==================================================\n",
      "\n"
     ]
    }
   ],
   "source": [
    "from unittest import TestCase\n",
    "\n",
    "class MyTestCase(TestCase):\n",
    "    def test_assert_false(self):\n",
    "        self.assertEqual(1, 2)"
   ]
  },
  {
   "cell_type": "markdown",
   "metadata": {
    "slideshow": {
     "slide_type": "subslide"
    }
   },
   "source": [
    "### Test which checks if an error is raised"
   ]
  },
  {
   "cell_type": "code",
   "execution_count": null,
   "metadata": {
    "slideshow": {
     "slide_type": "fragment"
    }
   },
   "outputs": [],
   "source": [
    "    def test_division_by_zero_raises_error(self):\n",
    "        with self.assertRaises(ZeroDivisionError):\n",
    "            ration = 1 / 0"
   ]
  },
  {
   "cell_type": "markdown",
   "metadata": {
    "slideshow": {
     "slide_type": "subslide"
    }
   },
   "source": [
    "### Writting tests with `unittest` package"
   ]
  },
  {
   "cell_type": "code",
   "execution_count": null,
   "metadata": {
    "slideshow": {
     "slide_type": "fragment"
    }
   },
   "outputs": [],
   "source": [
    "    def test_object_created_successfuly(self):\n",
    "        with self.assertRaises(ZeroDivisionError):\n",
    "            ration = 1/0."
   ]
  },
  {
   "cell_type": "markdown",
   "metadata": {
    "slideshow": {
     "slide_type": "subslide"
    }
   },
   "source": [
    "### Not repeating preparation for a test"
   ]
  },
  {
   "cell_type": "markdown",
   "metadata": {
    "slideshow": {
     "slide_type": "fragment"
    }
   },
   "source": [
    "`setUp()` method is executed before each test. It might be used to prepare data for a test."
   ]
  },
  {
   "cell_type": "code",
   "execution_count": null,
   "metadata": {
    "slideshow": {
     "slide_type": "fragment"
    }
   },
   "outputs": [],
   "source": [
    "from unittest import TestCase\n",
    "\n",
    "class MyTestCase(TestCase):\n",
    "    def setUp(self):\n",
    "        self.stock = {'apples': 10, 'oranges': 4}\n",
    "    \n",
    "    def test_buying_fruits_successfully(self):\n",
    "        order = {'apples': 1, 'oranges': 1}\n",
    "        \n",
    "        fulfilled, updated_stock = buy_fruits(self.stock, order)\n",
    "        \n",
    "        self.assertEqual(fulfilled, True)\n",
    "        self.assertEqual(updated_stock, {'apples': 9, 'oranges': 3})\n",
    "    \n",
    "    def test_buying_fruits_unsucessfully(self):\n",
    "        order = {'apples': 1, 'lemons': 1}\n",
    "        \n",
    "        fulfilled, updated_stock = buy_fruits(self.stock, order)\n",
    "        \n",
    "        self.assertEqual(fulfilled, True)\n",
    "        self.assertEqual(updated_stock, {'apples': 10, 'oranges': 4})"
   ]
  },
  {
   "cell_type": "markdown",
   "metadata": {
    "slideshow": {
     "slide_type": "subslide"
    }
   },
   "source": [
    "`setUpClass()` method might be used to prepare data once per class."
   ]
  },
  {
   "cell_type": "code",
   "execution_count": 103,
   "metadata": {
    "slideshow": {
     "slide_type": "fragment"
    }
   },
   "outputs": [],
   "source": [
    "from unittest import TestCase\n",
    "\n",
    "class MyTestCase(TestCase):\n",
    "    @classmethod\n",
    "    def setUpClass(cls):\n",
    "        cls.user = User(username='C1234567')\n",
    "        login(cls.user)\n",
    "    \n",
    "    def test_user_was_created(self):\n",
    "        self.assertTrue(self.user)\n",
    "        self.assertEqual(self.user.username, 'C1234567')\n",
    "        \n",
    "    def test_is_authenticated(self):\n",
    "        self.assertTrue(is_logged_in(self.user))\n",
    "        \n",
    "    @classmethod\n",
    "    def tearDownClass(cls):\n",
    "        logout(cls.user)"
   ]
  },
  {
   "cell_type": "markdown",
   "metadata": {
    "slideshow": {
     "slide_type": "subslide"
    }
   },
   "source": [
    "### Running tests"
   ]
  },
  {
   "cell_type": "markdown",
   "metadata": {
    "slideshow": {
     "slide_type": "fragment"
    }
   },
   "source": [
    "* Tests can be collected and executed by a test runner.\n",
    "\n",
    "* `pytest` is one of the most popular test runner. It has to be installed using pip.\n",
    "\n",
    "* You can collect and run all tests, a test case or a single test using `pytest`:\n",
    "\n",
    "    * `venv/bin/pytest`\n",
    "\n",
    "    * `venv/bin/pytest tests.py::MyTestCase`\n",
    "\n",
    "    * `venv/bin/pytest tests.py::MyTestCase::test_assert_statements`\n",
    "    \n",
    "* Test **coverage** - is a persentage of code lines hit when tests are executed (calculated automatically with `pytest-cov`). "
   ]
  },
  {
   "cell_type": "code",
   "execution_count": 16,
   "metadata": {
    "slideshow": {
     "slide_type": "subslide"
    }
   },
   "outputs": [
    {
     "name": "stderr",
     "output_type": "stream",
     "text": [
      ".\n",
      "----------------------------------------------------------------------\n",
      "Ran 1 test in 0.001s\n",
      "\n",
      "OK\n"
     ]
    },
    {
     "data": {
      "text/plain": [
       "<unittest.main.TestProgram at 0x17c9e7170b8>"
      ]
     },
     "execution_count": 16,
     "metadata": {},
     "output_type": "execute_result"
    }
   ],
   "source": [
    "import unittest\n",
    "from unittest import TestCase\n",
    "\n",
    "\n",
    "class MyTests(TestCase):\n",
    "    def test_assert(self):\n",
    "        self.assertTrue(True)\n",
    "        \n",
    "# Runs all tests\n",
    "unittest.main(argv=['-v'], exit=False)"
   ]
  },
  {
   "cell_type": "code",
   "execution_count": 17,
   "metadata": {
    "slideshow": {
     "slide_type": "subslide"
    }
   },
   "outputs": [
    {
     "name": "stderr",
     "output_type": "stream",
     "text": [
      "F\n",
      "======================================================================\n",
      "FAIL: test_assert (__main__.MyTests)\n",
      "----------------------------------------------------------------------\n",
      "Traceback (most recent call last):\n",
      "  File \"<ipython-input-17-59489ef448d9>\", line 6, in test_assert\n",
      "    self.assertTrue(False)\n",
      "AssertionError: False is not true\n",
      "\n",
      "----------------------------------------------------------------------\n",
      "Ran 1 test in 0.002s\n",
      "\n",
      "FAILED (failures=1)\n"
     ]
    },
    {
     "data": {
      "text/plain": [
       "<unittest.main.TestProgram at 0x17c9e541128>"
      ]
     },
     "execution_count": 17,
     "metadata": {},
     "output_type": "execute_result"
    }
   ],
   "source": [
    "import unittest\n",
    "from unittest import TestCase\n",
    "\n",
    "\n",
    "class MyTests(TestCase):\n",
    "    def test_assert(self):\n",
    "        self.assertTrue(False)\n",
    "        \n",
    "# Runs all tests\n",
    "unittest.main(argv=['-v'], exit=False)"
   ]
  },
  {
   "cell_type": "markdown",
   "metadata": {
    "slideshow": {
     "slide_type": "subslide"
    }
   },
   "source": [
    "### It is also possible to write tests in documentation strings"
   ]
  },
  {
   "cell_type": "code",
   "execution_count": 102,
   "metadata": {
    "slideshow": {
     "slide_type": "fragment"
    }
   },
   "outputs": [
    {
     "data": {
      "text/plain": [
       "TestResults(failed=0, attempted=2)"
      ]
     },
     "execution_count": 102,
     "metadata": {},
     "output_type": "execute_result"
    }
   ],
   "source": [
    "def factorial(n):\n",
    "    '''Returns factorial of n, also denoted as n!\n",
    "    >>> factorial(2)\n",
    "    2\n",
    "    >>> factorial(5)\n",
    "    120\n",
    "    '''\n",
    "    if n == 1:\n",
    "        return 1\n",
    "    return n * factorial(n - 1)\n",
    "\n",
    "import doctest\n",
    "doctest.testmod()"
   ]
  },
  {
   "cell_type": "markdown",
   "metadata": {
    "slideshow": {
     "slide_type": "fragment"
    }
   },
   "source": [
    "More about docstring tests: https://docs.python.org/3.8/library/doctest.html"
   ]
  },
  {
   "cell_type": "markdown",
   "metadata": {
    "slideshow": {
     "slide_type": "subslide"
    }
   },
   "source": [
    "### Mocking"
   ]
  },
  {
   "cell_type": "markdown",
   "metadata": {
    "slideshow": {
     "slide_type": "fragment"
    }
   },
   "source": [
    "`Mocking` - imitating behaviour without executing actual code."
   ]
  },
  {
   "cell_type": "markdown",
   "metadata": {
    "slideshow": {
     "slide_type": "fragment"
    }
   },
   "source": [
    "`MagicMock` is a class which has any attribute and can be called with any arguments. "
   ]
  },
  {
   "cell_type": "code",
   "execution_count": 112,
   "metadata": {
    "slideshow": {
     "slide_type": "fragment"
    }
   },
   "outputs": [],
   "source": [
    "from unittest.mock import MagicMock\n",
    "\n",
    "class SomeClass():\n",
    "    def hello_world(self, *args, **kwargs):\n",
    "        return 'Hello world'\n",
    "\n",
    "real = SomeClass()\n",
    "real.hello_world = MagicMock()\n",
    "real.hello_world(3, 4, 5, key='value')\n",
    "\n",
    "real.hello_world.assert_called_once_with(3, 4, 5, key='value')"
   ]
  },
  {
   "cell_type": "code",
   "execution_count": 111,
   "metadata": {
    "slideshow": {
     "slide_type": "fragment"
    }
   },
   "outputs": [
    {
     "name": "stdout",
     "output_type": "stream",
     "text": [
      "<MagicMock name='mock.non_existing_attribute' id='2592899059840'>\n"
     ]
    }
   ],
   "source": [
    "print(real.hello_world.non_existing_attribute)"
   ]
  },
  {
   "cell_type": "markdown",
   "metadata": {
    "slideshow": {
     "slide_type": "subslide"
    }
   },
   "source": [
    "### Patching"
   ]
  },
  {
   "cell_type": "code",
   "execution_count": 113,
   "metadata": {
    "slideshow": {
     "slide_type": "fragment"
    }
   },
   "outputs": [
    {
     "name": "stdout",
     "output_type": "stream",
     "text": [
      "Hello world!\n"
     ]
    }
   ],
   "source": [
    "from unittest import mock\n",
    "\n",
    "\n",
    "def great():\n",
    "    print('Hello, Santa!')\n",
    "\n",
    "def function_to_patch_with():\n",
    "    print('Hello world!')\n",
    "    \n",
    "\n",
    "@mock.patch('my_package.hello_world')\n",
    "def test_patch_using_side_effect(func_mock):\n",
    "    func_mock.side_effect = function_to_patch_with\n",
    "    \n",
    "    print(great())"
   ]
  },
  {
   "cell_type": "markdown",
   "metadata": {
    "slideshow": {
     "slide_type": "subslide"
    }
   },
   "source": [
    "### Doctests"
   ]
  },
  {
   "cell_type": "markdown",
   "metadata": {
    "slideshow": {
     "slide_type": "fragment"
    }
   },
   "source": [
    "More about docstring tests: https://docs.python.org/3.8/library/doctest.html"
   ]
  },
  {
   "cell_type": "code",
   "execution_count": 102,
   "metadata": {
    "slideshow": {
     "slide_type": "fragment"
    }
   },
   "outputs": [
    {
     "data": {
      "text/plain": [
       "TestResults(failed=0, attempted=2)"
      ]
     },
     "execution_count": 102,
     "metadata": {},
     "output_type": "execute_result"
    }
   ],
   "source": [
    "def factorial(n):\n",
    "    '''Returns factorial of n, also denoted as n!\n",
    "    >>> factorial(2)\n",
    "    2\n",
    "    >>> factorial(5)\n",
    "    120\n",
    "    '''\n",
    "    if n == 1:\n",
    "        return 1\n",
    "    return n * factorial(n - 1)\n",
    "\n",
    "import doctest\n",
    "doctest.testmod()"
   ]
  },
  {
   "cell_type": "markdown",
   "metadata": {
    "slideshow": {
     "slide_type": "subslide"
    }
   },
   "source": [
    "### Practical assignment"
   ]
  },
  {
   "cell_type": "code",
   "execution_count": 21,
   "metadata": {
    "slideshow": {
     "slide_type": "fragment"
    }
   },
   "outputs": [
    {
     "name": "stderr",
     "output_type": "stream",
     "text": [
      "...\n",
      "----------------------------------------------------------------------\n",
      "Ran 3 tests in 0.005s\n",
      "\n",
      "OK\n"
     ]
    },
    {
     "data": {
      "text/plain": [
       "<unittest.main.TestProgram at 0x23608eb8e10>"
      ]
     },
     "execution_count": 21,
     "metadata": {},
     "output_type": "execute_result"
    }
   ],
   "source": [
    "# T1: Use unittest.TestCase to write two tests for `buy_fruits()` function.\n",
    "def buy_fruits(stock, order):\n",
    "    for product, count in order.items():\n",
    "       if stock.get(product, 0) < count:\n",
    "           return False, stock\n",
    "        \n",
    "    # Otherwise, remove order from a stock and return True, stock\n",
    "    for product, count in order.items():\n",
    "        stock[product] -= count\n",
    "    return True, stock\n",
    "\n",
    "\n",
    "        \n",
    "\n",
    "# T2: Use unittest.TestCase to write two tests for `buy_fruits_multiple_times()` function\n",
    "def buy_fruits_multiple_times(stock, orders):\n",
    "    fullfilments = []\n",
    "    for order in orders:\n",
    "        fullfilled, stock = buy_fruits(stock, order)\n",
    "        fullfilments.append(fullfilled)\n",
    "    return fullfilments, stock\n",
    "    \n",
    "    \n",
    "\n",
    "from unittest import TestCase\n",
    "\n",
    "class BuyFruitsTestCase(TestCase):\n",
    "    def setUp(self):\n",
    "        self.stock = {'apples': 10, 'oranges': 4}\n",
    "    \n",
    "    def test_buy_fruits_successfuly(self):\n",
    "        # GIVEN\n",
    "        stock = self.stock\n",
    "        order = {'apples': 1, 'oranges': 1}\n",
    "        \n",
    "        # WHEN\n",
    "        was_fulfilled, updated_stock = buy_fruits(stock, order)\n",
    "        \n",
    "        # THEN\n",
    "        self.assertTrue(was_fulfilled)\n",
    "        self.assertEqual(updated_stock, {'apples': 9, 'oranges': 3})\n",
    "        \n",
    "    def test_buy_fruits_which_are_out_of_stock(self):\n",
    "        # GIVEN\n",
    "        stock = self.stock\n",
    "        order = {'apples': 1, 'lemons': 1}\n",
    "        \n",
    "        # WHEN\n",
    "        was_fulfilled, updated_stock = buy_fruits(stock, order)\n",
    "        \n",
    "        # THEN\n",
    "        self.assertFalse(was_fulfilled)\n",
    "        self.assertEqual(updated_stock, stock)\n",
    "        \n",
    "\n",
    "class BuyFruitsMultipleTimesTestCase(TestCase):\n",
    "    def setUp(self):\n",
    "        self.stock = {'apples': 10, 'oranges': 4}\n",
    "        order = {'apples': 1, 'oranges': 1}\n",
    "        self.orders = [order, order, order]\n",
    "        \n",
    "        \n",
    "    def test_buy_fruits_multiple_times_successfuly(self):\n",
    "        # GIVEN\n",
    "        stock = self.stock\n",
    "        orders = self.orders\n",
    "        self.assertEqual(len(orders), 3)\n",
    "        \n",
    "        # WHEN\n",
    "        fulfillments, updated_stock = buy_fruits_multiple_times(stock, orders)\n",
    "        \n",
    "        # THEN\n",
    "        self.assertEqual(fulfillments, [True, True, True])\n",
    "        self.assertIn(True, fulfillments)\n",
    "        self.assertNotIn(False, fulfillments)\n",
    "        self.assertEqual(updated_stock, {'apples': 7, 'oranges': 1})\n",
    "    \n",
    "# T3: Call your tests and see how they pass successfully. You might need to restart Jupyter Kernel.\n",
    "import unittest\n",
    "unittest.main(argv=[''], exit=False)"
   ]
  },
  {
   "cell_type": "code",
   "execution_count": null,
   "metadata": {},
   "outputs": [],
   "source": []
  }
 ],
 "metadata": {
  "celltoolbar": "Slideshow",
  "kernelspec": {
   "display_name": "Python 3",
   "language": "python",
   "name": "python3"
  },
  "language_info": {
   "codemirror_mode": {
    "name": "ipython",
    "version": 3
   },
   "file_extension": ".py",
   "mimetype": "text/x-python",
   "name": "python",
   "nbconvert_exporter": "python",
   "pygments_lexer": "ipython3",
   "version": "3.7.3"
  }
 },
 "nbformat": 4,
 "nbformat_minor": 2
}
