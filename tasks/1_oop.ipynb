{
 "cells": [
  {
   "cell_type": "markdown",
   "metadata": {
    "slideshow": {
     "slide_type": "subslide"
    }
   },
   "source": [
    "### Object Oriented Programming"
   ]
  },
  {
   "cell_type": "markdown",
   "metadata": {
    "slideshow": {
     "slide_type": "fragment"
    }
   },
   "source": [
    "**class** is a custom data type."
   ]
  },
  {
   "cell_type": "code",
   "execution_count": null,
   "metadata": {
    "slideshow": {
     "slide_type": "fragment"
    }
   },
   "outputs": [],
   "source": [
    "class MagicNumber:\n",
    "    pass"
   ]
  },
  {
   "cell_type": "markdown",
   "metadata": {
    "slideshow": {
     "slide_type": "fragment"
    }
   },
   "source": [
    "**CammelCase** is used for class names (without underscores)."
   ]
  },
  {
   "cell_type": "markdown",
   "metadata": {
    "slideshow": {
     "slide_type": "subslide"
    }
   },
   "source": [
    "**Instance** - value example of your custom data type (class)."
   ]
  },
  {
   "cell_type": "markdown",
   "metadata": {
    "slideshow": {
     "slide_type": "fragment"
    }
   },
   "source": [
    "To create an **instance**, you have to call the **class**."
   ]
  },
  {
   "cell_type": "code",
   "execution_count": null,
   "metadata": {
    "slideshow": {
     "slide_type": "fragment"
    }
   },
   "outputs": [],
   "source": [
    "my_number = MagicNumber()"
   ]
  },
  {
   "cell_type": "markdown",
   "metadata": {
    "slideshow": {
     "slide_type": "fragment"
    }
   },
   "source": [
    "Another name of an **instance** is **object**."
   ]
  },
  {
   "cell_type": "markdown",
   "metadata": {
    "slideshow": {
     "slide_type": "subslide"
    }
   },
   "source": [
    "**attribute** - a variable attached to an **instance** (or a **class**)."
   ]
  },
  {
   "cell_type": "code",
   "execution_count": null,
   "metadata": {
    "slideshow": {
     "slide_type": "fragment"
    }
   },
   "outputs": [],
   "source": [
    "class MagicNumber:\n",
    "    value = 0"
   ]
  },
  {
   "cell_type": "code",
   "execution_count": null,
   "metadata": {
    "slideshow": {
     "slide_type": "fragment"
    }
   },
   "outputs": [],
   "source": [
    "my_number = MagicNumber()\n",
    "\n",
    "print(my_number.value)"
   ]
  },
  {
   "cell_type": "markdown",
   "metadata": {
    "slideshow": {
     "slide_type": "subslide"
    }
   },
   "source": [
    "### Object Oriented Programming allows to organize code"
   ]
  },
  {
   "cell_type": "code",
   "execution_count": null,
   "metadata": {
    "slideshow": {
     "slide_type": "fragment"
    }
   },
   "outputs": [],
   "source": [
    "animals = [\n",
    "    {'kind': 'cat', 'sound': 'meuw', 'name': 'Foo'},\n",
    "    {'kind': 'dog', 'sound': 'bark', 'name': 'Bar'}\n",
    "]"
   ]
  },
  {
   "cell_type": "code",
   "execution_count": null,
   "metadata": {
    "slideshow": {
     "slide_type": "fragment"
    }
   },
   "outputs": [],
   "source": [
    "class Dog:\n",
    "    kind = 'dog'     # Class attribute\n",
    "    sound = 'bark'\n",
    "    \n",
    "class Cat:\n",
    "    kind = 'cat'\n",
    "    sound = 'meuw'\n",
    "    \n",
    "dog = Dog()\n",
    "dog.name = 'Foo'\n",
    "\n",
    "cat = Cat()\n",
    "cat.name = 'Bar'\n",
    "\n",
    "print(dog.kind, dog.sound, dog.name)\n",
    "print(cat.kind, cat.sound, cat.name)"
   ]
  },
  {
   "cell_type": "markdown",
   "metadata": {
    "slideshow": {
     "slide_type": "subslide"
    }
   },
   "source": [
    "**method** - a function attached to a class/instance."
   ]
  },
  {
   "cell_type": "code",
   "execution_count": null,
   "metadata": {
    "slideshow": {
     "slide_type": "fragment"
    }
   },
   "outputs": [],
   "source": [
    "class MagicNumber:\n",
    "    value = 123\n",
    "    \n",
    "    def show(self):\n",
    "        print(self.value)\n",
    "        \n",
    "my_number = MagicNumber()\n",
    "my_number.show()"
   ]
  },
  {
   "cell_type": "markdown",
   "metadata": {
    "slideshow": {
     "slide_type": "fragment"
    }
   },
   "source": [
    "Methods by default get additional attribute **self**, which is the **instance** itself."
   ]
  },
  {
   "cell_type": "markdown",
   "metadata": {
    "slideshow": {
     "slide_type": "fragment"
    }
   },
   "source": [
    "**self** can be used to access attributes and methods of the **instance**. "
   ]
  },
  {
   "cell_type": "markdown",
   "metadata": {
    "slideshow": {
     "slide_type": "subslide"
    }
   },
   "source": [
    "**Constructor** - a special method, which initializes the **instance**.  Its called during creation of an instance."
   ]
  },
  {
   "cell_type": "code",
   "execution_count": null,
   "metadata": {
    "slideshow": {
     "slide_type": "fragment"
    }
   },
   "outputs": [],
   "source": [
    "class MagicNumber:\n",
    "    def __init__(self):\n",
    "        self.value = 0"
   ]
  },
  {
   "cell_type": "code",
   "execution_count": null,
   "metadata": {
    "slideshow": {
     "slide_type": "fragment"
    }
   },
   "outputs": [],
   "source": [
    "my_number = MagicNumber()\n",
    "\n",
    "print(my_number.value)"
   ]
  },
  {
   "cell_type": "markdown",
   "metadata": {
    "slideshow": {
     "slide_type": "subslide"
    }
   },
   "source": [
    "**Common mistake** is forgetting to write `self.` before an attribute."
   ]
  },
  {
   "cell_type": "code",
   "execution_count": null,
   "metadata": {
    "slideshow": {
     "slide_type": "fragment"
    }
   },
   "outputs": [],
   "source": [
    "class MagicNumber:\n",
    "    def __init__(self):    # A variable `value` will be created instead of an attribute\n",
    "        value = 0          # Correct:  self.value = 0\n",
    "        \n",
    "my_number = MagicNumber()\n",
    "\n",
    "print(my_number.value)"
   ]
  },
  {
   "cell_type": "markdown",
   "metadata": {
    "slideshow": {
     "slide_type": "subslide"
    }
   },
   "source": [
    "Double `_` is placed at the begining and at the end of special purpose methods, like `__init__`, `__str__`, `__len__`, `__dir__`."
   ]
  },
  {
   "cell_type": "code",
   "execution_count": null,
   "metadata": {
    "slideshow": {
     "slide_type": "fragment"
    }
   },
   "outputs": [],
   "source": [
    "class MagicNumber:\n",
    "    def __init__(self, value=0):\n",
    "        self.value = value\n",
    "        \n",
    "    def __str__(self):\n",
    "        return f'MagicNumber({self.value})'\n",
    "        \n",
    "my_number = MagicNumber(100)\n",
    "print(my_number)\n",
    "\n",
    "my_number2 = MagicNumber(555)\n",
    "print(my_number2)"
   ]
  },
  {
   "cell_type": "markdown",
   "metadata": {
    "slideshow": {
     "slide_type": "subslide"
    }
   },
   "source": [
    "There is a difference between **class** and **instance** attributes (and methods)."
   ]
  },
  {
   "cell_type": "code",
   "execution_count": null,
   "metadata": {
    "slideshow": {
     "slide_type": "fragment"
    }
   },
   "outputs": [],
   "source": [
    "from random import random\n",
    "\n",
    "class MagicNumber:\n",
    "    value = random()"
   ]
  },
  {
   "cell_type": "code",
   "execution_count": null,
   "metadata": {
    "slideshow": {
     "slide_type": "fragment"
    }
   },
   "outputs": [],
   "source": [
    "my_number1 = MagicNumber()\n",
    "print(my_number1.value)\n",
    "\n",
    "my_number2 = MagicNumber()\n",
    "print(my_number2.value)      # The value is initialized once for a class"
   ]
  },
  {
   "cell_type": "code",
   "execution_count": null,
   "metadata": {
    "slideshow": {
     "slide_type": "subslide"
    }
   },
   "outputs": [],
   "source": [
    "from random import random\n",
    "\n",
    "class MagicNumber:\n",
    "    def __init__(self):\n",
    "        self.value = random()"
   ]
  },
  {
   "cell_type": "code",
   "execution_count": null,
   "metadata": {
    "slideshow": {
     "slide_type": "fragment"
    }
   },
   "outputs": [],
   "source": [
    "my_number1 = MagicNumber()\n",
    "print(my_number1.value)\n",
    "\n",
    "my_number2 = MagicNumber()\n",
    "print(my_number2.value)      # The value is initialized for each instance"
   ]
  },
  {
   "cell_type": "code",
   "execution_count": null,
   "metadata": {
    "slideshow": {
     "slide_type": "subslide"
    }
   },
   "outputs": [],
   "source": [
    "class MagicNumber:\n",
    "    value = 99\n",
    "    \n",
    "    def __init__(self):\n",
    "        self.value = 0"
   ]
  },
  {
   "cell_type": "code",
   "execution_count": null,
   "metadata": {
    "slideshow": {
     "slide_type": "fragment"
    }
   },
   "outputs": [],
   "source": [
    "print(MagicNumber.value)\n",
    "\n",
    "my_number1 = MagicNumber()   # Class attribute is overriden with a instance attribute\n",
    "print(my_number1.value)\n",
    "\n",
    "print(MagicNumber.value)\n",
    "\n",
    "MagicNumber.value = 11\n",
    "print(MagicNumber.value)     # To modify class attribute use class, instead of instance"
   ]
  },
  {
   "cell_type": "markdown",
   "metadata": {
    "slideshow": {
     "slide_type": "subslide"
    }
   },
   "source": [
    "**static method** - method which does not receive the instance.\n",
    "\n",
    "**class method** - method which receives class instead of an instance."
   ]
  },
  {
   "cell_type": "code",
   "execution_count": null,
   "metadata": {
    "slideshow": {
     "slide_type": "fragment"
    }
   },
   "outputs": [],
   "source": [
    "class MagicNumber:\n",
    "    @staticmethod\n",
    "    def name():\n",
    "        return 'MagicNr.'\n",
    "    \n",
    "    @classmethod\n",
    "    def class_name(cls):\n",
    "        return cls.__name__\n",
    "    \n",
    "print(MagicNumber.name())         # The calls look the same, however \n",
    "print(MagicNumber.class_name())"
   ]
  },
  {
   "cell_type": "markdown",
   "metadata": {
    "slideshow": {
     "slide_type": "subslide"
    }
   },
   "source": [
    "**static** and **class** methods can both be called on **class** and on **instance**."
   ]
  },
  {
   "cell_type": "code",
   "execution_count": null,
   "metadata": {
    "slideshow": {
     "slide_type": "fragment"
    }
   },
   "outputs": [],
   "source": [
    "class MagicNumber:\n",
    "    @staticmethod\n",
    "    def name():\n",
    "        return 'Magic Nr.'\n",
    "    \n",
    "    @classmethod\n",
    "    def class_name(cls):\n",
    "        return cls.__name__\n",
    "    \n",
    "print(MagicNumber.name())           \n",
    "print(MagicNumber.class_name())\n",
    "\n",
    "print(MagicNumber().name())          # Instance\n",
    "print(MagicNumber().class_name())"
   ]
  },
  {
   "cell_type": "markdown",
   "metadata": {
    "slideshow": {
     "slide_type": "subslide"
    }
   },
   "source": [
    "### More naming rules"
   ]
  },
  {
   "cell_type": "markdown",
   "metadata": {
    "slideshow": {
     "slide_type": "fragment"
    }
   },
   "source": [
    "**Constants** - variables with a fixed value. Python does not support constants.\n",
    "\n",
    "If name of a variable/attribute is `UPPERCASED_WITH_UNDERSCORES` - you shouldn't change it."
   ]
  },
  {
   "cell_type": "markdown",
   "metadata": {
    "slideshow": {
     "slide_type": "fragment"
    }
   },
   "source": [
    "If an attribute or method name starts with `_`, it is for internal use only and it is subject to change. e.g. `_convert_to_representation()`."
   ]
  },
  {
   "cell_type": "markdown",
   "metadata": {
    "slideshow": {
     "slide_type": "subslide"
    }
   },
   "source": [
    "### Inheritance"
   ]
  },
  {
   "cell_type": "markdown",
   "metadata": {
    "slideshow": {
     "slide_type": "fragment"
    }
   },
   "source": [
    "**inheritance** - the concept that one class can inherit traits from another class."
   ]
  },
  {
   "cell_type": "code",
   "execution_count": null,
   "metadata": {
    "slideshow": {
     "slide_type": "fragment"
    }
   },
   "outputs": [],
   "source": [
    "class Animal:\n",
    "    breathing = 'Air'\n",
    "    \n",
    "class Dog(Animal):  # All attributes and methods from `Animal` class are also accesible\n",
    "    eatting = 'meat'\n",
    "    \n",
    "dog = Dog()\n",
    "\n",
    "print(dog.breathing, dog.eatting)"
   ]
  },
  {
   "cell_type": "markdown",
   "metadata": {
    "slideshow": {
     "slide_type": "subslide"
    }
   },
   "source": [
    "It is possible to inherit from several classes."
   ]
  },
  {
   "cell_type": "code",
   "execution_count": null,
   "metadata": {
    "slideshow": {
     "slide_type": "fragment"
    }
   },
   "outputs": [],
   "source": [
    "class Animal:\n",
    "    breathing = 'Air'\n",
    "    \n",
    "class Dog(Animal):  # All attributes and methods from `Animal` class are also accesible\n",
    "    eatting = 'meat'\n",
    "    \n",
    "class SuperPowerMixin:\n",
    "    ability = 'fly'\n",
    "    \n",
    "class Pet(Dog, SuperPowerMixin):\n",
    "    name = 'foo'\n",
    "    \n",
    "pet = Pet()\n",
    "\n",
    "print(pet.breathing, pet.eatting, pet.name, pet.ability)"
   ]
  },
  {
   "cell_type": "markdown",
   "metadata": {
    "slideshow": {
     "slide_type": "subslide"
    }
   },
   "source": [
    "**overriding** - concept when an attribute or a method is replaced by a child class."
   ]
  },
  {
   "cell_type": "code",
   "execution_count": null,
   "metadata": {
    "slideshow": {
     "slide_type": "fragment"
    }
   },
   "outputs": [],
   "source": [
    "class Fish:\n",
    "    def how_does_it_move(self):\n",
    "        return 'swim'\n",
    "    \n",
    "class Dinosour(Fish):\n",
    "    def how_does_it_move(self):\n",
    "        old_way_to_move = super().how_does_it_move()  # Parent class methods are accessable\n",
    "        print('Note: Used to', old_way_to_move)\n",
    "        return 'walk'\n",
    "\n",
    "dino = Dinosour()\n",
    "print(dino.how_does_it_move())"
   ]
  },
  {
   "cell_type": "markdown",
   "metadata": {
    "slideshow": {
     "slide_type": "subslide"
    }
   },
   "source": [
    "### Composition"
   ]
  },
  {
   "cell_type": "markdown",
   "metadata": {},
   "source": [
    "**composition** - the concept that a class can be composed of other classes as parts.\n"
   ]
  },
  {
   "cell_type": "code",
   "execution_count": null,
   "metadata": {
    "slideshow": {
     "slide_type": "fragment"
    }
   },
   "outputs": [],
   "source": [
    "class Product:\n",
    "    def __init__(self, name):\n",
    "        self.name = name\n",
    "        \n",
    "    def __repr__(self):\n",
    "        return self.name\n",
    "    \n",
    "class Shop:\n",
    "    def __init__(self, products):\n",
    "        self.products = products\n",
    "\n",
    "apple = Product('Apple')\n",
    "orange = Product('Orange')\n",
    "lemon = Product('Lemon')\n",
    "shop = Shop([apple, orange, lemon])\n",
    "\n",
    "print(shop.products)"
   ]
  },
  {
   "cell_type": "markdown",
   "metadata": {
    "slideshow": {
     "slide_type": "subslide"
    }
   },
   "source": [
    "### Functional VS Object Oriented Programming"
   ]
  },
  {
   "cell_type": "code",
   "execution_count": null,
   "metadata": {
    "slideshow": {
     "slide_type": "fragment"
    }
   },
   "outputs": [],
   "source": [
    "animals = [\n",
    "    {'kind': 'cat', 'sound': 'meu', 'name': 'Foo'},\n",
    "    {'kind': 'dog', 'sound': 'bark', 'name': 'Bar'}\n",
    "]\n",
    "\n",
    "def make_sound(animal):\n",
    "    print(animal['sound'])\n",
    "        \n",
    "make_sound(animals[1])"
   ]
  },
  {
   "cell_type": "code",
   "execution_count": null,
   "metadata": {
    "slideshow": {
     "slide_type": "fragment"
    }
   },
   "outputs": [],
   "source": [
    "class Dog:\n",
    "    kind = 'dog'                    \n",
    "    sound = 'bark'\n",
    "    \n",
    "    def __init__(self, name):       \n",
    "        self.name = name  \n",
    "        \n",
    "    def make_sound(self):\n",
    "        print(self.sound)\n",
    "\n",
    "dog = Dog('Foo')\n",
    "dog.make_sound()"
   ]
  },
  {
   "cell_type": "markdown",
   "metadata": {
    "slideshow": {
     "slide_type": "subslide"
    }
   },
   "source": [
    "### Usefull built-in methods, when attribute name is given as a string"
   ]
  },
  {
   "cell_type": "code",
   "execution_count": null,
   "metadata": {
    "slideshow": {
     "slide_type": "fragment"
    }
   },
   "outputs": [],
   "source": [
    "class Foo:\n",
    "    bar = 123\n",
    "    \n",
    "instance = Foo()"
   ]
  },
  {
   "cell_type": "code",
   "execution_count": null,
   "metadata": {
    "slideshow": {
     "slide_type": "fragment"
    }
   },
   "outputs": [],
   "source": [
    "hasattr(instance, 'bar')"
   ]
  },
  {
   "cell_type": "code",
   "execution_count": null,
   "metadata": {
    "slideshow": {
     "slide_type": "fragment"
    }
   },
   "outputs": [],
   "source": [
    "getattr(instance, 'bar')"
   ]
  },
  {
   "cell_type": "code",
   "execution_count": null,
   "metadata": {
    "slideshow": {
     "slide_type": "fragment"
    }
   },
   "outputs": [],
   "source": [
    "getattr(instance, 'spam')   # Exception is raised if attribute does not exist"
   ]
  },
  {
   "cell_type": "code",
   "execution_count": null,
   "metadata": {
    "slideshow": {
     "slide_type": "fragment"
    }
   },
   "outputs": [],
   "source": [
    "getattr(instance, 'spam', -100)   # Default value can be provided if attribute does not exist"
   ]
  },
  {
   "cell_type": "code",
   "execution_count": null,
   "metadata": {
    "slideshow": {
     "slide_type": "fragment"
    }
   },
   "outputs": [],
   "source": [
    "setattr(instance, 'bar', 999)\n",
    "\n",
    "print(instance.bar)"
   ]
  },
  {
   "cell_type": "markdown",
   "metadata": {
    "slideshow": {
     "slide_type": "subslide"
    }
   },
   "source": [
    "### Example of Assignment Nr. 1 (consists of 6 steps)"
   ]
  },
  {
   "cell_type": "code",
   "execution_count": null,
   "metadata": {
    "slideshow": {
     "slide_type": "fragment"
    }
   },
   "outputs": [],
   "source": [
    "# Step 1: Write an empty `Book` class.\n",
    "# Step 2: Add a constructor to your `Book` class, which accepts a mandatory `title`,\n",
    "# optional `description` and `tags` arguments.\n",
    "# Step 3: Create two book instances with titles: \"The Hitchhiker's Guide to the Galaxy\" and \"Clean Code\".\n",
    "class Book:\n",
    "    def __init__(self, title, description='', tags=None):\n",
    "        if tags is None:\n",
    "            self.tags = []\n",
    "        else:\n",
    "            self.tags = tags\n",
    "        self.title = title\n",
    "        self.description = description\n",
    "        \n",
    "    def __str__(self):\n",
    "        return f'Book: {self.title} {self.tags}'\n",
    "\n",
    "book1 = Book(\"The Hitchhiker's Guide to the Galaxy\")\n",
    "print(book1)\n",
    "book2 = Book(\"Clean Code\")\n",
    "print(book2)"
   ]
  },
  {
   "cell_type": "code",
   "execution_count": null,
   "metadata": {
    "slideshow": {
     "slide_type": "fragment"
    }
   },
   "outputs": [],
   "source": [
    "# Step 4: Write another class `AutoTagBook`, which inherits from a `Book` class.\n",
    "# The `AutoTagBook` class should automatically add \"Python\" value to `tags` attribute if \"Python\" is mentioned \n",
    "# in the title or description of the book.\n",
    "\n",
    "class AutoTagBook(Book):\n",
    "    def __init__(self, *args, **kwargs):\n",
    "        super().__init__(*args, **kwargs)\n",
    "        if 'Python' in self.title or 'Python' in self.description:\n",
    "            self.tags.append('Python')\n",
    "        \n",
    "book3 = AutoTagBook(\"Automate The Boring Stuff with Python\")\n",
    "print(book3)\n",
    "\n",
    "# Step 5: Create several `PythonBook` instances, e.g. with titles:\n",
    "#     \"The Hitchhiker's Guide to the Galaxy\"\n",
    "#     \"Automate The Boring Stuff with Python\"\n",
    "#     \"Learn Python3 the Hard Way\"\n",
    "#     \"The Hitchhiker's Guide to Python!\" \n",
    "#     \"Clean Code\"\n",
    "# And see if the tag was correctly set.\n",
    "\n",
    "book4 = AutoTagBook(\"The Hitchhiker's Guide to the Galaxy\")\n",
    "print(book4)\n",
    "book5 = AutoTagBook(\"The Hitchhiker's Guide to Python!\")\n",
    "print(book5)"
   ]
  },
  {
   "cell_type": "code",
   "execution_count": null,
   "metadata": {
    "slideshow": {
     "slide_type": "fragment"
    }
   },
   "outputs": [],
   "source": [
    "# Step 6: Create A class `Shelf`, which accepts multiple `Book` instances in its constructor.\n",
    "# Add all `Book` and `PythonBook` instances you have already created to a `Shelf` instance.\n",
    "# Add `show()` method to a `Shelf` class, which prints all the titles of the books it has.\n",
    "# Add `show_longest_title()` method to a `Shelf` class, which prints a book with the longest title.\n",
    "# Add `show_by_tag()` method to a `Shelf` class, which prints only books which has the provided `tag`.\n",
    "# Check how `show()`, `show_longest_title()`, `show_by_tag()` methods work.\n",
    "\n",
    "class Shelf:\n",
    "    def __init__(self, books):\n",
    "        self.books = books\n",
    "        \n",
    "    def __str__(self):\n",
    "        return f'A shelf with {len(self.books)} books like \"{self.books[0].title}\"'\\\n",
    "    \n",
    "    def show(self):\n",
    "        for book in self.books:\n",
    "            print(book)\n",
    "            \n",
    "    def show_longest_title(self):\n",
    "        max_title_length = None\n",
    "        book_with_longest_title = None\n",
    "        for book in self.books:\n",
    "            if max_title_length is None or len(book.title) > max_title_length:\n",
    "                max_title_length = len(book.title)\n",
    "                book_with_longest_title = book\n",
    "        print(book_with_longest_title)\n",
    "            \n",
    "    def show_by_tag(self, tag):\n",
    "        for book in self.books:\n",
    "            if tag in book.tags:\n",
    "                print(book)\n",
    "                \n",
    "    \n",
    "        \n",
    "my_shelf  = Shelf([book1, book2, book3, book4, book5])\n",
    "print(my_shelf)\n",
    "\n",
    "print('\\nBooks on my shelf:')\n",
    "my_shelf.show()\n",
    "\n",
    "print('\\nBook with the longest title:')\n",
    "my_shelf.show_longest_title()\n",
    "\n",
    "print('\\nPython books:')\n",
    "my_shelf.show_by_tag('Python')\n"
   ]
  },
  {
   "cell_type": "markdown",
   "metadata": {
    "slideshow": {
     "slide_type": "subslide"
    }
   },
   "source": [
    "### Assignment"
   ]
  },
  {
   "cell_type": "code",
   "execution_count": null,
   "metadata": {},
   "outputs": [],
   "source": [
    "# Install requests package by running this command in Terminal or Git bash:\n",
    "#   pip install requests\n",
    "#\n",
    "# Then execute this code to get your Assignment Nr. 1\n",
    "from assignments import show_assignment1\n",
    "show_assignment1()"
   ]
  },
  {
   "cell_type": "code",
   "execution_count": null,
   "metadata": {},
   "outputs": [],
   "source": [
    "# To complete your assignment run this check:\n",
    "from assignments import check_assignment1\n",
    "check_assignment1()"
   ]
  },
  {
   "cell_type": "code",
   "execution_count": null,
   "metadata": {},
   "outputs": [],
   "source": []
  }
 ],
 "metadata": {
  "celltoolbar": "Slideshow",
  "kernelspec": {
   "display_name": "Python 3",
   "language": "python",
   "name": "python3"
  },
  "language_info": {
   "codemirror_mode": {
    "name": "ipython",
    "version": 3
   },
   "file_extension": ".py",
   "mimetype": "text/x-python",
   "name": "python",
   "nbconvert_exporter": "python",
   "pygments_lexer": "ipython3",
   "version": "3.6.9"
  }
 },
 "nbformat": 4,
 "nbformat_minor": 2
}
