{
 "cells": [
  {
   "cell_type": "markdown",
   "metadata": {
    "slideshow": {
     "slide_type": "subslide"
    }
   },
   "source": [
    "### Multithreading in Python\n"
   ]
  },
  {
   "cell_type": "code",
   "execution_count": 24,
   "metadata": {},
   "outputs": [
    {
     "name": "stdout",
     "output_type": "stream",
     "text": [
      "Stopped waiting\n",
      "Sleeping for 5\n",
      "1\n",
      "Originali gija tesia darba\n",
      "Stopped waiting\n"
     ]
    }
   ],
   "source": [
    "from threading import Thread, Semaphore\n",
    "from random import random\n",
    "from time import sleep\n",
    "\n",
    "\n",
    "def lauk():\n",
    "    time_to_sleep = 5\n",
    "    print('Sleeping for', time_to_sleep)\n",
    "    sleep(time_to_sleep)\n",
    "    print('Stopped waiting')\n",
    "\n",
    "gija1 = Thread(target=lauk)\n",
    "gija1.start()\n",
    "\n",
    "print('Originali gija tesia darba')"
   ]
  },
  {
   "cell_type": "code",
   "execution_count": 42,
   "metadata": {},
   "outputs": [
    {
     "data": {
      "text/plain": [
       "4"
      ]
     },
     "execution_count": 42,
     "metadata": {},
     "output_type": "execute_result"
    }
   ],
   "source": [
    "from random import random, randint, shuffle, choice, seed\n",
    "\n",
    "# seed('124')\n",
    "\n",
    "# print(10 + random() * 100)  # [10, 110]\n",
    "randint(0, 10)   # [0, 10]\n",
    "# a = list(range(10))  # [0,1,2,3,4,5,6,7,8,9]\n",
    "# shuffle(a)\n",
    "# print(choice(a))"
   ]
  },
  {
   "cell_type": "code",
   "execution_count": 13,
   "metadata": {},
   "outputs": [
    {
     "name": "stdout",
     "output_type": "stream",
     "text": [
      "0 Pirmoji 100 atimtis\n",
      "0 Pirmoji 99 pridetis\n",
      "1 Pirmoji 100 atimtis\n",
      "1 Pirmoji 99 pridetis\n",
      "2 Pirmoji 100 atimtis\n",
      "2 Pirmoji 99 pridetis\n",
      "3 Pirmoji 100 atimtis\n",
      "3 Pirmoji 99 pridetis\n",
      "4 Pirmoji 100 atimtis\n",
      "4 Pirmoji 99 pridetis\n",
      "5 Pirmoji 100 atimtis\n",
      "5 Pirmoji 99 pridetis\n",
      "6 Pirmoji 100 atimtis\n",
      "6 Pirmoji 99 pridetis\n",
      "7 Pirmoji 100 atimtis\n",
      "7 Pirmoji 99 pridetis\n",
      "8 Pirmoji 100 atimtis\n",
      "8 Pirmoji 99 pridetis\n",
      "9 Pirmoji 100 atimtis\n",
      "9 Pirmoji 99 pridetis\n",
      "0 Antroji 100 atimtis\n",
      "0 Antroji 99 pridetis\n",
      "1 Antroji 100 atimtis\n",
      "1 Antroji 99 pridetis\n",
      "2 Antroji 100 atimtis\n",
      "2 Antroji 99 pridetis\n",
      "3 Antroji 100 atimtis\n",
      "3 Antroji 99 pridetis\n",
      "4 Antroji 100 atimtis\n",
      "4 Antroji 99 pridetis\n",
      "5 Antroji 100 atimtis\n",
      "5 Antroji 99 pridetis\n",
      "6 Antroji 100 atimtis\n",
      "6 Antroji 99 pridetis\n",
      "7 Antroji 100 atimtis\n",
      "7 Antroji 99 pridetis\n",
      "8 Antroji 100 atimtis\n",
      "8 Antroji 99 pridetis\n",
      "9 Antroji 100 atimtis\n",
      "9 Antroji 99 pridetis\n",
      "100\n"
     ]
    }
   ],
   "source": [
    "from threading import Thread, Semaphore\n",
    "from random import random\n",
    "from time import sleep\n",
    "\n",
    "galiu_modifikuoti_simtas = Semaphore(value=1)\n",
    "galiu_spausdinti = Semaphore()\n",
    "simtas = 100\n",
    "\n",
    "# print('Semaforo reiksme', galiu_modifikuoti_simtas._value)\n",
    "# galiu_modifikuoti_simtas.acquire()\n",
    "# print('Semaforo reiksme', galiu_modifikuoti_simtas._value)\n",
    "# galiu_modifikuoti_simtas.release()\n",
    "# print('Semaforo reiksme', galiu_modifikuoti_simtas._value)\n",
    "\n",
    "def pakeisk_simta(name):\n",
    "    global simtas\n",
    "    \n",
    "    # print(f'<{name}> Gavau semafora:', galiu_modifikuoti_simtas._value)\n",
    "    # print(f'<{name}> simtas=', simtas)\n",
    "    for i in range(10):\n",
    "        galiu_spausdinti.acquire()\n",
    "        print(i, name, simtas, 'atimtis')\n",
    "        galiu_spausdinti.release()\n",
    "        galiu_modifikuoti_simtas.acquire()\n",
    "        simtas -= 1\n",
    "        galiu_modifikuoti_simtas.release()\n",
    "        galiu_spausdinti.acquire()\n",
    "        print(i, name, simtas, 'pridetis')\n",
    "        galiu_spausdinti.release()\n",
    "        galiu_modifikuoti_simtas.acquire()\n",
    "        simtas += 1\n",
    "        galiu_modifikuoti_simtas.release()\n",
    "        # galiu_modifikuoti_simtas.release()\n",
    "    # galiu_modifikuoti_simtas.release()\n",
    "    # print(f'<{name}> Paleidau semafora:', galiu_modifikuoti_simtas._value)\n",
    "    # print(f'<{name}> simtas=', simtas)\n",
    "\n",
    "gija1 = Thread(target=pakeisk_simta, kwargs={'name': 'Pirmoji'})\n",
    "gija2 = Thread(target=pakeisk_simta, kwargs={'name': 'Antroji'})\n",
    "gija1.start()\n",
    "gija2.start()\n",
    "\n",
    "gija1.join()\n",
    "gija2.join()\n",
    "\n",
    "print(simtas)"
   ]
  },
  {
   "cell_type": "code",
   "execution_count": 23,
   "metadata": {},
   "outputs": [
    {
     "name": "stdout",
     "output_type": "stream",
     "text": [
      "https://www.google.com content length 14235\n",
      "https://www.yahoo.com content length 374213\n"
     ]
    }
   ],
   "source": [
    "from threading import Thread\n",
    "import requests\n",
    "\n",
    "\n",
    "class ManoGija(Thread):\n",
    "    def __init__(self, url):\n",
    "        super().__init__()\n",
    "        self.url = url\n",
    "        \n",
    "    def run(self):\n",
    "        resp = requests.get(self.url)\n",
    "        print(f'{self.url} content length', len(resp.content))\n",
    "        \n",
    "urls = ['https://www.google.com', 'https://www.yahoo.com']\n",
    "        \n",
    "for url in urls:\n",
    "    ManoGija(url).start()\n",
    "\n",
    "# gija1 = Thread(target=job)\n",
    "# gija2 = ManoGija()\n",
    "# gija2.start()"
   ]
  },
  {
   "cell_type": "code",
   "execution_count": 8,
   "metadata": {},
   "outputs": [
    {
     "name": "stdout",
     "output_type": "stream",
     "text": [
      "['http://google.com', 'http://yahoo.com']\n",
      "Getting http://google.com\n",
      "Getting http://yahoo.com\n",
      "14172\n"
     ]
    }
   ],
   "source": [
    "import threading\n",
    "import queue\n",
    "import requests\n",
    "\n",
    "def get_url(q, url):\n",
    "    print('Getting', url)\n",
    "    q.put(requests.get(url).text)\n",
    "\n",
    "urls = [\"http://google.com\", \"http://yahoo.com\"]\n",
    "print(urls)\n",
    "q = queue.Queue()\n",
    "\n",
    "for u in urls:\n",
    "    t = threading.Thread(target=get_url, args = (q,u))\n",
    "    t.daemon = True\n",
    "    t.start()\n",
    "\n",
    "s = q.get()\n",
    "print(len(s))"
   ]
  },
  {
   "cell_type": "code",
   "execution_count": 2,
   "metadata": {},
   "outputs": [
    {
     "name": "stdout",
     "output_type": "stream",
     "text": [
      "499999500000\n"
     ]
    }
   ],
   "source": [
    "import threading\n",
    "\n",
    "class SummingThread(threading.Thread):\n",
    "     def __init__(self,low,high):\n",
    "         super(SummingThread, self).__init__()\n",
    "         self.low = low\n",
    "         self.high = high\n",
    "         self.total = 0\n",
    "\n",
    "     def run(self):\n",
    "         for i in range(self.low,self.high):\n",
    "             self.total+=i\n",
    "\n",
    "\n",
    "thread1 = SummingThread(0,500000)\n",
    "thread2 = SummingThread(500000,1000000)\n",
    "thread1.start() # This actually causes the thread to run\n",
    "thread2.start()\n",
    "thread1.join()  # This waits until the thread has completed\n",
    "thread2.join()\n",
    "# At this point, both threads have completed\n",
    "result = thread1.total + thread2.total\n",
    "print(result)"
   ]
  },
  {
   "cell_type": "code",
   "execution_count": 7,
   "metadata": {},
   "outputs": [
    {
     "name": "stdout",
     "output_type": "stream",
     "text": [
      "1\n"
     ]
    }
   ],
   "source": [
    "# https://docs.python.org/3/library/threading.html#threading.Semaphore\n",
    "from threading import Semaphore\n",
    "\n",
    "s = Semaphore(value=1)\n",
    "print(s._value)"
   ]
  },
  {
   "cell_type": "markdown",
   "metadata": {},
   "source": [
    "### Trečiosios užduoties pavyzdys\n",
    "\n",
    "Sukurti du tankai kaip gijas, turinčius N \"gyvybės\" taškų.\n",
    "Kas 1 sekundes jie apsikeičia \"smūgiais\", kurių žalos dydis generuojamas atsitiktinai iš intervalo [0 .. 100].\n",
    "Po 3 sekundžių prisijungia taisytojas, kuris kas 3 sekundes pagydo kurį nors vieną priešininką (kas kartą parenkamą atsitiktinai) atsitiktiniu dydžiu [1..50].\n",
    "Reikia užtikrinti, kad priešininkų \"gyvybės\" taškai būtų modifikuojami nuosekliai, panaudojant Semaforą.\n",
    "Paskelbiamas nugalėtojas."
   ]
  },
  {
   "cell_type": "code",
   "execution_count": 5,
   "metadata": {
    "scrolled": true
   },
   "outputs": [
    {
     "name": "stdout",
     "output_type": "stream",
     "text": [
      "Fight is starting between Tank1 and Tank2\n",
      "Tank1 hitted 0 to Tank2 (health left 1200)\n",
      "Tank2 hitted 75 to Tank1 (health left 1000)\n",
      "Tank1 hitted 16 to Tank2 (health left 1200)\n",
      "Tank2 hitted 56 to Tank1 (health left 925)\n",
      "Tank1 hitted 56 to Tank2 (health left 1184)\n",
      "Tank2 hitted 67 to Tank1 (health left 869)\n",
      "Repairer is joining the fight!\n",
      "Repairing Tank1 with 14 health points\n",
      "Tank1 hitted 16 to Tank2 (health left 1128)\n",
      "Tank2 hitted 90 to Tank1 (health left 816)\n",
      "Tank1 hitted 84 to Tank2 (health left 1112)\n",
      "Tank2 hitted 44 to Tank1 (health left 726)\n",
      "Tank1 hitted 67 to Tank2 (health left 1028)\n",
      "Tank2 hitted 36 to Tank1 (health left 682)\n",
      "Tank1 hitted 45 to Tank2 (health left 961)\n",
      "Repairing Tank1 with 11 health points\n",
      "Tank2 hitted 92 to Tank1 (health left 657)\n",
      "Tank1 hitted 10 to Tank2 (health left 916)\n",
      "Tank2 hitted 10 to Tank1 (health left 565)\n",
      "Tank1 hitted 94 to Tank2 (health left 906)\n",
      "Tank2 hitted 96 to Tank1 (health left 555)\n",
      "Tank1 hitted 88 to Tank2 (health left 812)\n",
      "Repairing Tank2 with 23 health points\n",
      "Tank2 hitted 48 to Tank1 (health left 459)\n",
      "Tank1 hitted 52 to Tank2 (health left 747)\n",
      "Tank2 hitted 29 to Tank1 (health left 411)\n",
      "Tank1 hitted 19 to Tank2 (health left 695)\n",
      "Tank2 hitted 58 to Tank1 (health left 382)\n",
      "Repairing Tank1 with 37 health points\n",
      "Tank1 hitted 53 to Tank2 (health left 676)\n",
      "Tank2 hitted 100 to Tank1 (health left 361)\n",
      "Tank1 hitted 85 to Tank2 (health left 623)\n",
      "Tank2 hitted 29 to Tank1 (health left 261)\n",
      "Tank1 hitted 85 to Tank2 (health left 538)\n",
      "Tank2 hitted 25 to Tank1 (health left 232)\n",
      "Repairing Tank2 with 46 health points\n",
      "Tank1 hitted 75 to Tank2 (health left 499)\n",
      "Tank2 hitted 44 to Tank1 (health left 207)\n",
      "Tank1 hitted 80 to Tank2 (health left 424)\n",
      "Tank2 hitted 88 to Tank1 (health left 163)\n",
      "Tank1 hitted 96 to Tank2 (health left 344)\n",
      "Tank2 hitted 33 to Tank1 (health left 75)\n",
      "Repairing Tank1 with 15 health points\n",
      "Tank1 hitted 7 to Tank2 (health left 248)\n",
      "Tank2 hitted 15 to Tank1 (health left 57)\n",
      "Tank1 hitted 96 to Tank2 (health left 241)\n",
      "Tank2 hitted 33 to Tank1 (health left 42)\n",
      "Tank1 hitted 27 to Tank2 (health left 145)\n",
      "Tank2 hitted 89 to Tank1 (health left 9)\n",
      "Fight is over\n",
      "Won Tank2 with health 118!\n"
     ]
    }
   ],
   "source": [
    "from threading import Thread, Semaphore\n",
    "from random import randint, choice\n",
    "import time\n",
    "\n",
    "\n",
    "class Tank:\n",
    "    def __init__(self, name, health=1000):\n",
    "        self.health = health\n",
    "        self.can_change_health = Semaphore()\n",
    "        self.name = name\n",
    "        \n",
    "    def __str__(self):\n",
    "        return self.name\n",
    "    \n",
    "    def attack_thread(self, target_tank, can_print):\n",
    "        while target_tank.health > 0 and self.health > 0:\n",
    "            hit = randint(0, 100)\n",
    "            can_print.acquire()\n",
    "            print(f'{self.name} hitted {hit} to {target_tank.name} (health left {target_tank.health})')\n",
    "            can_print.release()\n",
    "            target_tank.can_change_health.acquire()\n",
    "            target_tank.health -= hit\n",
    "            target_tank.can_change_health.release()\n",
    "            time.sleep(1)\n",
    "            \n",
    "            \n",
    "class Repairer:\n",
    "    def repair_tank_thread(self, tank1, tank2, can_print):\n",
    "        while tank1.health > 0 and tank2.health > 0:\n",
    "            tank = choice([tank1, tank2])\n",
    "            repaired_health = randint(1, 50)\n",
    "            can_print.acquire()\n",
    "            print(f'Repairing {tank.name} with {repaired_health} health points')\n",
    "            can_print.release()\n",
    "            tank.can_change_health.acquire()\n",
    "            tank.health += repaired_health\n",
    "            tank.can_change_health.release()\n",
    "            time.sleep(1 * 3)\n",
    "\n",
    "class Fight:\n",
    "    def __init__(self):\n",
    "        self.tank1 = Tank('Tank1')\n",
    "        self.tank2 = Tank('Tank2', 1200)\n",
    "        self.repairer = Repairer()\n",
    "        self.can_print = Semaphore()\n",
    "        \n",
    "    def print_winner(self):\n",
    "        if self.tank1.health > 0:\n",
    "            print(f'Won {self.tank1.name} with health {self.tank1.health}!')\n",
    "        else:\n",
    "            print(f'Won {self.tank2.name} with health {self.tank2.health}!')\n",
    "        \n",
    "    def start(self):\n",
    "        self.can_print.acquire()\n",
    "        print(f'Fight is starting between {self.tank1} and {self.tank2}')\n",
    "        self.can_print.release()\n",
    "        # Start Tank1 thread to attack tank2\n",
    "        tank1_attack_thread = Thread(\n",
    "            target=self.tank1.attack_thread,\n",
    "            kwargs={'target_tank': self.tank2, 'can_print': self.can_print}\n",
    "        )\n",
    "        tank1_attack_thread.start()\n",
    "        \n",
    "        # Start Tank2 thread to attack tank1\n",
    "        tank2_attack_thread = Thread(\n",
    "            target=self.tank2.attack_thread,\n",
    "            kwargs={'target_tank': self.tank1, 'can_print': self.can_print}\n",
    "        )\n",
    "        tank2_attack_thread.start()\n",
    "        \n",
    "        # Wait 3 seconds\n",
    "        time.sleep(1 * 3)\n",
    "        self.can_print.acquire()\n",
    "        print('Repairer is joining the fight!')\n",
    "        self.can_print.release()\n",
    "        \n",
    "        # Start reapair thread\n",
    "        repairer_thread = Thread(\n",
    "            target=self.repairer.repair_tank_thread,\n",
    "            args=[self.tank1, self.tank2],\n",
    "            kwargs={'can_print': self.can_print}\n",
    "        )\n",
    "        repairer_thread.start()\n",
    "        \n",
    "        # Wait for fight end and print the winner\n",
    "        tank1_attack_thread.join()\n",
    "        tank2_attack_thread.join()\n",
    "        repairer_thread.join()\n",
    "        \n",
    "        print('Fight is over')\n",
    "        self.print_winner()\n",
    "        \n",
    "\n",
    "Fight().start()"
   ]
  },
  {
   "cell_type": "markdown",
   "metadata": {},
   "source": [
    "### Trečiosios užduoties sąlyga\n",
    "\n",
    "Sukurti du priešininkus kaip gijas, turinčius N \"gyvybės\" taškų.\n",
    "Kas 3 sekundes jie apsikeičia \"smūgiais\", kurių žalos dydis generuojamas atsitiktinai iš intervalo [0 .. 10].\n",
    "Po 12 sekundžių prisijungia gyditojas, kuris kas 3 sekundes pagydo kurį nors vieną priešininką (kas kartą parenkamą atsitiktinai) atsitiktiniu dydžiu [0..5].\n",
    "Reikia užtikrinti, kad priešininkų \"gyvybės\" taškai būtų modifikuojami nuosekliai, panaudojant Semaforą.\n",
    "Paskelbiamas nugalėtojas."
   ]
  }
 ],
 "metadata": {
  "celltoolbar": "Slideshow",
  "kernelspec": {
   "display_name": "Python 3",
   "language": "python",
   "name": "python3"
  },
  "language_info": {
   "codemirror_mode": {
    "name": "ipython",
    "version": 3
   },
   "file_extension": ".py",
   "mimetype": "text/x-python",
   "name": "python",
   "nbconvert_exporter": "python",
   "pygments_lexer": "ipython3",
   "version": "3.6.9"
  }
 },
 "nbformat": 4,
 "nbformat_minor": 2
}
