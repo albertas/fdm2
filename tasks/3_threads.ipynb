{
 "cells": [
  {
   "cell_type": "markdown",
   "metadata": {
    "slideshow": {
     "slide_type": "subslide"
    }
   },
   "source": [
    "### Multithreading in Python\n"
   ]
  },
  {
   "cell_type": "code",
   "execution_count": 24,
   "metadata": {},
   "outputs": [
    {
     "name": "stdout",
     "output_type": "stream",
     "text": [
      "Stopped waiting\n",
      "Sleeping for 5\n",
      "1\n",
      "Originali gija tesia darba\n",
      "Stopped waiting\n"
     ]
    }
   ],
   "source": [
    "from threading import Thread, Semaphore\n",
    "from random import random\n",
    "from time import sleep\n",
    "\n",
    "\n",
    "def lauk():\n",
    "    time_to_sleep = 5\n",
    "    print('Sleeping for', time_to_sleep)\n",
    "    sleep(time_to_sleep)\n",
    "    print('Stopped waiting')\n",
    "\n",
    "\n",
    "    \n",
    "gija1 = Thread(target=lauk)\n",
    "gija1.start()\n",
    "# print(galiu_spausdinti._value)\n",
    "print('Originali gija tesia darba')\n",
    "\n",
    "\n",
    "# gija2 = Thread(target=job)"
   ]
  },
  {
   "cell_type": "code",
   "execution_count": 13,
   "metadata": {},
   "outputs": [
    {
     "name": "stdout",
     "output_type": "stream",
     "text": [
      "0 Pirmoji 100 atimtis\n",
      "0 Pirmoji 99 pridetis\n",
      "1 Pirmoji 100 atimtis\n",
      "1 Pirmoji 99 pridetis\n",
      "2 Pirmoji 100 atimtis\n",
      "2 Pirmoji 99 pridetis\n",
      "3 Pirmoji 100 atimtis\n",
      "3 Pirmoji 99 pridetis\n",
      "4 Pirmoji 100 atimtis\n",
      "4 Pirmoji 99 pridetis\n",
      "5 Pirmoji 100 atimtis\n",
      "5 Pirmoji 99 pridetis\n",
      "6 Pirmoji 100 atimtis\n",
      "6 Pirmoji 99 pridetis\n",
      "7 Pirmoji 100 atimtis\n",
      "7 Pirmoji 99 pridetis\n",
      "8 Pirmoji 100 atimtis\n",
      "8 Pirmoji 99 pridetis\n",
      "9 Pirmoji 100 atimtis\n",
      "9 Pirmoji 99 pridetis\n",
      "0 Antroji 100 atimtis\n",
      "0 Antroji 99 pridetis\n",
      "1 Antroji 100 atimtis\n",
      "1 Antroji 99 pridetis\n",
      "2 Antroji 100 atimtis\n",
      "2 Antroji 99 pridetis\n",
      "3 Antroji 100 atimtis\n",
      "3 Antroji 99 pridetis\n",
      "4 Antroji 100 atimtis\n",
      "4 Antroji 99 pridetis\n",
      "5 Antroji 100 atimtis\n",
      "5 Antroji 99 pridetis\n",
      "6 Antroji 100 atimtis\n",
      "6 Antroji 99 pridetis\n",
      "7 Antroji 100 atimtis\n",
      "7 Antroji 99 pridetis\n",
      "8 Antroji 100 atimtis\n",
      "8 Antroji 99 pridetis\n",
      "9 Antroji 100 atimtis\n",
      "9 Antroji 99 pridetis\n",
      "100\n"
     ]
    }
   ],
   "source": [
    "from threading import Thread, Semaphore\n",
    "from random import random\n",
    "from time import sleep\n",
    "\n",
    "galiu_modifikuoti_simtas = Semaphore(value=1)\n",
    "galiu_spausdinti = Semaphore()\n",
    "simtas = 100\n",
    "\n",
    "# print('Semaforo reiksme', galiu_modifikuoti_simtas._value)\n",
    "# galiu_modifikuoti_simtas.acquire()\n",
    "# print('Semaforo reiksme', galiu_modifikuoti_simtas._value)\n",
    "# galiu_modifikuoti_simtas.release()\n",
    "# print('Semaforo reiksme', galiu_modifikuoti_simtas._value)\n",
    "\n",
    "def pakeisk_simta(name):\n",
    "    global simtas\n",
    "    \n",
    "    # print(f'<{name}> Gavau semafora:', galiu_modifikuoti_simtas._value)\n",
    "    # print(f'<{name}> simtas=', simtas)\n",
    "    for i in range(10):\n",
    "        galiu_spausdinti.acquire()\n",
    "        print(i, name, simtas, 'atimtis')\n",
    "        galiu_spausdinti.release()\n",
    "        galiu_modifikuoti_simtas.acquire()\n",
    "        simtas -= 1\n",
    "        galiu_modifikuoti_simtas.release()\n",
    "        galiu_spausdinti.acquire()\n",
    "        print(i, name, simtas, 'pridetis')\n",
    "        galiu_spausdinti.release()\n",
    "        galiu_modifikuoti_simtas.acquire()\n",
    "        simtas += 1\n",
    "        galiu_modifikuoti_simtas.release()\n",
    "        # galiu_modifikuoti_simtas.release()\n",
    "    # galiu_modifikuoti_simtas.release()\n",
    "    # print(f'<{name}> Paleidau semafora:', galiu_modifikuoti_simtas._value)\n",
    "    # print(f'<{name}> simtas=', simtas)\n",
    "\n",
    "gija1 = Thread(target=pakeisk_simta, kwargs={'name': 'Pirmoji'})\n",
    "gija2 = Thread(target=pakeisk_simta, kwargs={'name': 'Antroji'})\n",
    "gija1.start()\n",
    "gija2.start()\n",
    "\n",
    "gija1.join()\n",
    "gija2.join()\n",
    "\n",
    "print(simtas)"
   ]
  },
  {
   "cell_type": "code",
   "execution_count": 23,
   "metadata": {},
   "outputs": [
    {
     "name": "stdout",
     "output_type": "stream",
     "text": [
      "https://www.google.com content length 14235\n",
      "https://www.yahoo.com content length 374213\n"
     ]
    }
   ],
   "source": [
    "from threading import Thread\n",
    "import requests\n",
    "\n",
    "\n",
    "class ManoGija(Thread):\n",
    "    def __init__(self, url):\n",
    "        super().__init__()\n",
    "        self.url = url\n",
    "        \n",
    "    def run(self):\n",
    "        resp = requests.get(self.url)\n",
    "        print(f'{self.url} content length', len(resp.content))\n",
    "        \n",
    "urls = ['https://www.google.com', 'https://www.yahoo.com']\n",
    "        \n",
    "for url in urls:\n",
    "    ManoGija(url).start()\n",
    "\n",
    "# gija1 = Thread(target=job)\n",
    "# gija2 = ManoGija()\n",
    "# gija2.start()\n",
    "\n",
    "\n",
    "\n",
    "\n",
    "\n",
    "\n"
   ]
  },
  {
   "cell_type": "code",
   "execution_count": 8,
   "metadata": {},
   "outputs": [
    {
     "name": "stdout",
     "output_type": "stream",
     "text": [
      "['http://google.com', 'http://yahoo.com']\n",
      "Getting http://google.com\n",
      "Getting http://yahoo.com\n",
      "14172\n"
     ]
    }
   ],
   "source": [
    "import threading\n",
    "import queue\n",
    "import requests\n",
    "\n",
    "def get_url(q, url):\n",
    "    print('Getting', url)\n",
    "    q.put(requests.get(url).text)\n",
    "\n",
    "urls = [\"http://google.com\", \"http://yahoo.com\"]\n",
    "print(urls)\n",
    "q = queue.Queue()\n",
    "\n",
    "for u in urls:\n",
    "    t = threading.Thread(target=get_url, args = (q,u))\n",
    "    t.daemon = True\n",
    "    t.start()\n",
    "\n",
    "s = q.get()\n",
    "print(len(s))"
   ]
  },
  {
   "cell_type": "code",
   "execution_count": 2,
   "metadata": {},
   "outputs": [
    {
     "name": "stdout",
     "output_type": "stream",
     "text": [
      "499999500000\n"
     ]
    }
   ],
   "source": [
    "import threading\n",
    "\n",
    "class SummingThread(threading.Thread):\n",
    "     def __init__(self,low,high):\n",
    "         super(SummingThread, self).__init__()\n",
    "         self.low = low\n",
    "         self.high = high\n",
    "         self.total = 0\n",
    "\n",
    "     def run(self):\n",
    "         for i in range(self.low,self.high):\n",
    "             self.total+=i\n",
    "\n",
    "\n",
    "thread1 = SummingThread(0,500000)\n",
    "thread2 = SummingThread(500000,1000000)\n",
    "thread1.start() # This actually causes the thread to run\n",
    "thread2.start()\n",
    "thread1.join()  # This waits until the thread has completed\n",
    "thread2.join()\n",
    "# At this point, both threads have completed\n",
    "result = thread1.total + thread2.total\n",
    "print(result)"
   ]
  },
  {
   "cell_type": "code",
   "execution_count": 7,
   "metadata": {},
   "outputs": [
    {
     "name": "stdout",
     "output_type": "stream",
     "text": [
      "1\n"
     ]
    }
   ],
   "source": [
    "# https://docs.python.org/3/library/threading.html#threading.Semaphore\n",
    "from threading import Semaphore\n",
    "\n",
    "s = Semaphore(value=1)\n",
    "print(s._value)"
   ]
  },
  {
   "cell_type": "code",
   "execution_count": null,
   "metadata": {},
   "outputs": [],
   "source": [
    "# https://docs.python.org/3/library/threading.html#threading.Event\n",
    "\n"
   ]
  }
 ],
 "metadata": {
  "celltoolbar": "Slideshow",
  "kernelspec": {
   "display_name": "Python 3",
   "language": "python",
   "name": "python3"
  },
  "language_info": {
   "codemirror_mode": {
    "name": "ipython",
    "version": 3
   },
   "file_extension": ".py",
   "mimetype": "text/x-python",
   "name": "python",
   "nbconvert_exporter": "python",
   "pygments_lexer": "ipython3",
   "version": "3.6.9"
  }
 },
 "nbformat": 4,
 "nbformat_minor": 2
}
