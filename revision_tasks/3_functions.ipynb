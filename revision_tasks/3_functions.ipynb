{
 "cells": [
  {
   "cell_type": "markdown",
   "metadata": {
    "slideshow": {
     "slide_type": "subslide"
    }
   },
   "source": [
    "# Functions\n",
    "### Network Developer Academy (lecture 3)"
   ]
  },
  {
   "cell_type": "markdown",
   "metadata": {
    "slideshow": {
     "slide_type": "subslide"
    }
   },
   "source": [
    "## Homework overview (conditions and loops)"
   ]
  },
  {
   "cell_type": "markdown",
   "metadata": {
    "slideshow": {
     "slide_type": "subslide"
    }
   },
   "source": [
    "### Expected solution"
   ]
  },
  {
   "cell_type": "code",
   "execution_count": null,
   "metadata": {
    "slideshow": {
     "slide_type": "fragment"
    }
   },
   "outputs": [],
   "source": [
    "amount = 12\n",
    "banknotes = [5, 2, 1]\n",
    "\n",
    "banknotes = sorted(banknotes)[::-1]    # sorted(banknotes, reverse=True)\n",
    "result = []  \n",
    "\n",
    "for banknote in banknotes:     \n",
    "    while amount // banknote:  \n",
    "        amount -= banknote     \n",
    "        result.append(banknote)\n",
    "        \n",
    "if amount != 0:                \n",
    "    result = False       \n",
    "    \n",
    "print(result)                  "
   ]
  },
  {
   "cell_type": "markdown",
   "metadata": {
    "slideshow": {
     "slide_type": "subslide"
    }
   },
   "source": [
    "### Expected solution (with floats)"
   ]
  },
  {
   "cell_type": "code",
   "execution_count": null,
   "metadata": {
    "slideshow": {
     "slide_type": "fragment"
    }
   },
   "outputs": [],
   "source": [
    "amount = 12.9\n",
    "banknotes = [5, 2, 0.1]\n",
    "\n",
    "banknotes = sorted(banknotes)[::-1]    # sorted(banknotes, reverse=True)\n",
    "result = []  \n",
    "\n",
    "for banknote in banknotes:     \n",
    "    while amount // banknote:  \n",
    "        amount -= banknote     \n",
    "        result.append(banknote)\n",
    "        \n",
    "if round(amount, 8) != 0:                \n",
    "    result = False       \n",
    "    \n",
    "print(result)                  "
   ]
  },
  {
   "cell_type": "markdown",
   "metadata": {
    "slideshow": {
     "slide_type": "subslide"
    }
   },
   "source": [
    "### Advanced solution (covers all cases)"
   ]
  },
  {
   "cell_type": "code",
   "execution_count": null,
   "metadata": {
    "slideshow": {
     "slide_type": "fragment"
    }
   },
   "outputs": [],
   "source": [
    "amount = 11\n",
    "banknotes = [5, 2]\n",
    "\n",
    "banknotes = sorted(banknotes)[::-1]\n",
    "best_result = False\n",
    "for skip_splits in range(int(amount // banknotes[-1])):\n",
    "    amount_left = amount\n",
    "    result = []\n",
    "    for banknote in banknotes:\n",
    "        for i in range(int(amount_left // banknote)):\n",
    "            if skip_splits > 0:\n",
    "                skip_splits -= 1\n",
    "            else:\n",
    "                amount_left -= banknote\n",
    "                result.append(banknote)\n",
    "    if round(amount_left, 8) == 0:\n",
    "        if not best_result or len(result) < len(best_result):\n",
    "            best_result = result\n",
    "\n",
    "print(best_result)"
   ]
  },
  {
   "cell_type": "markdown",
   "metadata": {
    "slideshow": {
     "slide_type": "subslide"
    }
   },
   "source": [
    "## Functions"
   ]
  },
  {
   "cell_type": "markdown",
   "metadata": {
    "slideshow": {
     "slide_type": "fragment"
    }
   },
   "source": [
    "**Function** - a reusable block of code, which (optionally) gets arguments and returns a value."
   ]
  },
  {
   "cell_type": "code",
   "execution_count": null,
   "metadata": {
    "slideshow": {
     "slide_type": "-"
    }
   },
   "outputs": [],
   "source": [
    "def foo():\n",
    "    print('Hello world!')\n",
    "    \n",
    "foo()   # Use round brackets to call a function\n",
    "foo()"
   ]
  },
  {
   "cell_type": "markdown",
   "metadata": {
    "slideshow": {
     "slide_type": "fragment"
    }
   },
   "source": [
    "**snake_make** should be used for function names (same as for variable names)."
   ]
  },
  {
   "cell_type": "markdown",
   "metadata": {
    "slideshow": {
     "slide_type": "subslide"
    }
   },
   "source": [
    "**Function** can have one or more **return** statements, which terminates the function and returns a value."
   ]
  },
  {
   "cell_type": "code",
   "execution_count": null,
   "metadata": {
    "slideshow": {
     "slide_type": "-"
    }
   },
   "outputs": [],
   "source": [
    "def foo():\n",
    "    return 'Hello world!'\n",
    "    \n",
    "my_value = foo()\n",
    "\n",
    "print(my_value)"
   ]
  },
  {
   "cell_type": "code",
   "execution_count": null,
   "metadata": {
    "slideshow": {
     "slide_type": "fragment"
    }
   },
   "outputs": [],
   "source": [
    "def foo():\n",
    "    return 'Hello world!'\n",
    "    return 'This will never be executed'\n",
    "\n",
    "print(foo())"
   ]
  },
  {
   "cell_type": "markdown",
   "metadata": {
    "slideshow": {
     "slide_type": "subslide"
    }
   },
   "source": [
    "In order to use a function, it has to defined first."
   ]
  },
  {
   "cell_type": "code",
   "execution_count": null,
   "metadata": {
    "slideshow": {
     "slide_type": "fragment"
    }
   },
   "outputs": [],
   "source": [
    "print(bar())\n",
    "\n",
    "def bar():\n",
    "    return 'Hello world!'"
   ]
  },
  {
   "cell_type": "markdown",
   "metadata": {
    "slideshow": {
     "slide_type": "subslide"
    }
   },
   "source": [
    "A function returns `None` by default. These three functions are equivalent."
   ]
  },
  {
   "cell_type": "code",
   "execution_count": null,
   "metadata": {
    "slideshow": {
     "slide_type": "-"
    }
   },
   "outputs": [],
   "source": [
    "def my_func():\n",
    "    pass       # `pass` does nothing, but counts as a valid code line\n",
    "\n",
    "def my_func2():\n",
    "    return\n",
    "\n",
    "def my_func3():\n",
    "    return None\n",
    "\n",
    "print(my_func())\n",
    "print(my_func2())\n",
    "print(my_func3())"
   ]
  },
  {
   "cell_type": "markdown",
   "metadata": {
    "slideshow": {
     "slide_type": "subslide"
    }
   },
   "source": [
    "**Common mistake**: assigning a value, when function does not return one"
   ]
  },
  {
   "cell_type": "code",
   "execution_count": null,
   "metadata": {
    "slideshow": {
     "slide_type": "fragment"
    }
   },
   "outputs": [],
   "source": [
    "my_list = [3, 1, 2]\n",
    "\n",
    "my_list = my_list.append(4)\n",
    "\n",
    "print(my_list)  # The list is gone, because `append()` does not return a value"
   ]
  },
  {
   "cell_type": "code",
   "execution_count": null,
   "metadata": {
    "slideshow": {
     "slide_type": "fragment"
    }
   },
   "outputs": [],
   "source": [
    "my_list = [3, 1, 2]\n",
    "\n",
    "sorted(my_list)\n",
    "\n",
    "print(my_list)  # `my_list` is not sorted, because `sorted()` returns a new sorted list"
   ]
  },
  {
   "cell_type": "code",
   "execution_count": null,
   "metadata": {
    "slideshow": {
     "slide_type": "fragment"
    }
   },
   "outputs": [],
   "source": [
    "# T1: fix two mistakes shown above: add `4` to a list and print sorted version of it. "
   ]
  },
  {
   "cell_type": "markdown",
   "metadata": {
    "slideshow": {
     "slide_type": "subslide"
    }
   },
   "source": [
    "A value can be passed to a function. \n",
    "\n",
    "The value which is passed to a function is called **argument**.\n",
    "\n",
    "A new variable to which the passed value is assigned to is called **parameter**."
   ]
  },
  {
   "cell_type": "code",
   "execution_count": null,
   "metadata": {
    "slideshow": {
     "slide_type": "fragment"
    }
   },
   "outputs": [],
   "source": [
    "def get_greeting(name):\n",
    "    return f'Hello {name}!'\n",
    "\n",
    "greeting = get_greeting('world')\n",
    "\n",
    "print(greeting)"
   ]
  },
  {
   "cell_type": "code",
   "execution_count": null,
   "metadata": {
    "slideshow": {
     "slide_type": "subslide"
    }
   },
   "outputs": [],
   "source": [
    "def get_greeting(name):\n",
    "    return f'Hello {name}!'\n",
    "\n",
    "friend = 'Santa'\n",
    "\n",
    "greeting = get_greeting(friend)   # The value of `friend` variable is passed to function\n",
    "\n",
    "print(greeting)"
   ]
  },
  {
   "cell_type": "markdown",
   "metadata": {
    "slideshow": {
     "slide_type": "subslide"
    }
   },
   "source": [
    "Multiple values can also be passed to a function."
   ]
  },
  {
   "cell_type": "code",
   "execution_count": null,
   "metadata": {
    "slideshow": {
     "slide_type": "fragment"
    }
   },
   "outputs": [],
   "source": [
    "def get_greeting(name, surname, title):\n",
    "    return f'Hello {title}. {name} {surname}!'\n",
    "\n",
    "first_name = 'Santa'\n",
    "last_name = 'Claus'\n",
    "greeting = get_greeting(first_name, last_name, 'Mr')\n",
    "\n",
    "print(greeting)"
   ]
  },
  {
   "cell_type": "markdown",
   "metadata": {
    "slideshow": {
     "slide_type": "subslide"
    }
   },
   "source": [
    "We can move our homework task to a function in order to test it with different inputs"
   ]
  },
  {
   "cell_type": "code",
   "execution_count": null,
   "metadata": {
    "slideshow": {
     "slide_type": "fragment"
    }
   },
   "outputs": [],
   "source": [
    "def split(amount, banknotes):\n",
    "    banknotes = sorted(banknotes, reverse=True)\n",
    "    result = []\n",
    "    \n",
    "    for banknote in banknotes:     \n",
    "        while amount // banknote:  \n",
    "            amount -= banknote     \n",
    "            result.append(banknote)\n",
    "        \n",
    "    if amount != 0:      # Note: The last check works with `round(amount, 12)`          \n",
    "        return False\n",
    "    return result\n",
    "\n",
    "print(split(13, [1, 2, 5]))\n",
    "print(split(13, [2, 5]))\n",
    "print(split(13.9, [0.1, 1, 2, 5]))"
   ]
  },
  {
   "cell_type": "markdown",
   "metadata": {
    "slideshow": {
     "slide_type": "subslide"
    }
   },
   "source": [
    "Exception is raised if not a right number of expected parameters is received."
   ]
  },
  {
   "cell_type": "code",
   "execution_count": null,
   "metadata": {
    "slideshow": {
     "slide_type": "fragment"
    }
   },
   "outputs": [],
   "source": [
    "def get_greeting(name, surname, title):\n",
    "    return f'Hello {title}. {name} {surname}!'\n",
    "\n",
    "first_name = 'Santa'\n",
    "last_name = 'Claus'\n",
    "greeting = get_greeting(first_name, last_name)"
   ]
  },
  {
   "cell_type": "markdown",
   "metadata": {
    "slideshow": {
     "slide_type": "subslide"
    }
   },
   "source": [
    "However, default values of parameters can be set."
   ]
  },
  {
   "cell_type": "code",
   "execution_count": null,
   "metadata": {
    "slideshow": {
     "slide_type": "fragment"
    }
   },
   "outputs": [],
   "source": [
    "def get_greeting(name, surname, title='Mr.'):\n",
    "    return f'Hello {title} {name} {surname}!'\n",
    "\n",
    "first_name = 'Santa'\n",
    "last_name = 'Claus'\n",
    "greeting = get_greeting(first_name, last_name)\n",
    "print(greeting)\n",
    "\n",
    "greeting = get_greeting(first_name, last_name, 'Great')\n",
    "print(greeting)"
   ]
  },
  {
   "cell_type": "markdown",
   "metadata": {
    "slideshow": {
     "slide_type": "subslide"
    }
   },
   "source": [
    "**Note**: parameters with default values have to be defined after parameters without default values."
   ]
  },
  {
   "cell_type": "code",
   "execution_count": null,
   "metadata": {
    "slideshow": {
     "slide_type": "fragment"
    }
   },
   "outputs": [],
   "source": [
    "# This raises exception, second parameter does not have default value\n",
    "def get_greeting(name='Santa', surname, title='Mr.'):\n",
    "    return f'Hello {title} {name} {surname}!'"
   ]
  },
  {
   "cell_type": "code",
   "execution_count": null,
   "metadata": {
    "slideshow": {
     "slide_type": "fragment"
    }
   },
   "outputs": [],
   "source": [
    "def get_greeting(name, surname='Claus', title='Mr.'):\n",
    "    return f'Hello {title} {name} {surname}!'\n",
    "\n",
    "print(get_greeting('Santa'))"
   ]
  },
  {
   "cell_type": "markdown",
   "metadata": {
    "slideshow": {
     "slide_type": "subslide"
    }
   },
   "source": [
    "**Common mistake** default values are created only once per function. If a default value is mutable - the same object is used for different calls."
   ]
  },
  {
   "cell_type": "code",
   "execution_count": null,
   "metadata": {
    "slideshow": {
     "slide_type": "fragment"
    }
   },
   "outputs": [],
   "source": [
    "def foo(a, my_list=[]):\n",
    "    my_list.append(a)\n",
    "    print(my_list)\n",
    "    \n",
    "foo(1)\n",
    "foo(2)"
   ]
  },
  {
   "cell_type": "code",
   "execution_count": null,
   "metadata": {
    "slideshow": {
     "slide_type": "fragment"
    }
   },
   "outputs": [],
   "source": [
    "def foo(a, my_list=None): # To overcome it, a list could be created\n",
    "    if my_list is None:   # inside the function if its not provided\n",
    "        my_list = []\n",
    "    my_list.append(a)\n",
    "    print(my_list)\n",
    "    \n",
    "foo(1)\n",
    "foo(2)"
   ]
  },
  {
   "cell_type": "markdown",
   "metadata": {
    "slideshow": {
     "slide_type": "subslide"
    }
   },
   "source": [
    "Arguments can be passed in a different order if their parameter name is explicitely stated."
   ]
  },
  {
   "cell_type": "code",
   "execution_count": null,
   "metadata": {
    "slideshow": {
     "slide_type": "fragment"
    }
   },
   "outputs": [],
   "source": [
    "def get_greeting(name, surname, title='Mr.'):\n",
    "    return f'Hello {title} {name} {surname}!'\n",
    "\n",
    "first_name = 'Santa'\n",
    "greeting = get_greeting(title='Great', name=first_name, surname='Claus')\n",
    "print(greeting)\n",
    "\n",
    "greeting = get_greeting(first_name, title='Great', surname='Claus')\n",
    "print(greeting)"
   ]
  },
  {
   "cell_type": "code",
   "execution_count": null,
   "metadata": {
    "slideshow": {
     "slide_type": "subslide"
    }
   },
   "outputs": [],
   "source": [
    "fruit_counts = {'apple': 10, 'orange': 6, 'banana': 5, 'lemon': 1}\n",
    "fruit_counts2 = {'apple': 56, 'orange': 81, 'banana': 73, 'lemon': 36}\n",
    "fruit_counts3 = {'apple': 412, 'orange': 924, 'banana': 857, 'lemon': 134}\n",
    "\n",
    "# T2: write a function, which returns how many fruits in total are there in a dictionary\n",
    "# Print the fruit counts for all dictionaries provided above."
   ]
  },
  {
   "cell_type": "code",
   "execution_count": null,
   "metadata": {
    "slideshow": {
     "slide_type": "fragment"
    }
   },
   "outputs": [],
   "source": [
    "fruit_counts = {'apple': 10, 'orange': 6, 'banana': 5, 'lemon': 1}\n",
    "\n",
    "# T3: write a function which reduces a given fruit count.\n",
    "# This function has to return a modified dictionary.\n",
    "# The original dictionary has to stay unmodified.\n",
    "# Reduce 'lemon' count and print original and modified dictionaries.\n",
    "# \n",
    "# Note: the dictionray is mutable, if you modify it in a function, the original dictionary gets modified too.\n",
    "# So make a copy using `dict().copy()` method."
   ]
  },
  {
   "cell_type": "markdown",
   "metadata": {
    "slideshow": {
     "slide_type": "subslide"
    }
   },
   "source": [
    "Functions can optionally accept any positional arguments, which get stored in a tuple. "
   ]
  },
  {
   "cell_type": "code",
   "execution_count": null,
   "metadata": {
    "slideshow": {
     "slide_type": "fragment"
    }
   },
   "outputs": [],
   "source": [
    "def foo(*args):  # A single asterisk is used to mark a variable for positional arguments\n",
    "    print('Positional arguments', args)\n",
    "    \n",
    "foo('Santa', 'Claus', 3)"
   ]
  },
  {
   "cell_type": "code",
   "execution_count": null,
   "metadata": {
    "slideshow": {
     "slide_type": "fragment"
    }
   },
   "outputs": [],
   "source": [
    "def foo(name, *args):   # A single asterisk is used to mark a variable for positional arguments\n",
    "    print('Name is:', name)\n",
    "    print('Other positional arguments', args)\n",
    "    \n",
    "foo('Santa', 'Claus', 3)"
   ]
  },
  {
   "cell_type": "code",
   "execution_count": null,
   "metadata": {
    "slideshow": {
     "slide_type": "subslide"
    }
   },
   "outputs": [],
   "source": [
    "# T4: write a function `sum_numbers`, which gets several numbers as positional arguments and returns their sum "
   ]
  },
  {
   "cell_type": "markdown",
   "metadata": {
    "slideshow": {
     "slide_type": "subslide"
    }
   },
   "source": [
    "Functions can optionally accept any keyword arguments, which get stored in a dictionary. "
   ]
  },
  {
   "cell_type": "code",
   "execution_count": null,
   "metadata": {
    "slideshow": {
     "slide_type": "fragment"
    }
   },
   "outputs": [],
   "source": [
    "def foo(**kwargs):   # Two asterisks are used to mark a variable for keywor arguments\n",
    "    print('Keyword arguments', kwargs)\n",
    "    \n",
    "foo(name='Santa', surname='Claus', gifts=3)"
   ]
  },
  {
   "cell_type": "markdown",
   "metadata": {
    "slideshow": {
     "slide_type": "subslide"
    }
   },
   "source": [
    "Both any positional and keyword arguments can be expected"
   ]
  },
  {
   "cell_type": "code",
   "execution_count": null,
   "metadata": {
    "slideshow": {
     "slide_type": "fragment"
    }
   },
   "outputs": [],
   "source": [
    "def foo(*args, **kwargs):\n",
    "    print(args, kwargs)\n",
    "    \n",
    "foo(1, 2)"
   ]
  },
  {
   "cell_type": "code",
   "execution_count": null,
   "metadata": {
    "slideshow": {
     "slide_type": "fragment"
    }
   },
   "outputs": [],
   "source": [
    "foo(1, name='Foo')"
   ]
  },
  {
   "cell_type": "markdown",
   "metadata": {
    "slideshow": {
     "slide_type": "subslide"
    }
   },
   "source": [
    "**Note**: Positional arguments have to be passed before keyword arguments."
   ]
  },
  {
   "cell_type": "code",
   "execution_count": null,
   "metadata": {
    "slideshow": {
     "slide_type": "fragment"
    }
   },
   "outputs": [],
   "source": [
    "def foo(*args, **kwargs):\n",
    "    print(args, kwargs)\n",
    "\n",
    "foo(name='Foo', 1)   # This raises an error:"
   ]
  },
  {
   "cell_type": "markdown",
   "metadata": {
    "slideshow": {
     "slide_type": "subslide"
    }
   },
   "source": [
    "It is possible to extract arguments from a sequence using __*__ operator when calling a function.\n",
    "\n",
    "It is possible to extract keyword arguments from a dictionary using __**__ operator when calling a function."
   ]
  },
  {
   "cell_type": "code",
   "execution_count": null,
   "metadata": {
    "slideshow": {
     "slide_type": "fragment"
    }
   },
   "outputs": [],
   "source": [
    "positional_arguments = ['Santa', 'Claus', 'Mr.']\n",
    "\n",
    "def print_greeting(name, surname, title):\n",
    "    print(f'Hello {title} {name} {surname}')\n",
    "    \n",
    "print_greeting(*positional_arguments)"
   ]
  },
  {
   "cell_type": "code",
   "execution_count": null,
   "metadata": {
    "slideshow": {
     "slide_type": "fragment"
    }
   },
   "outputs": [],
   "source": [
    "keyword_arguments = {'name': 'Santa', 'surname': 'Claus', 'title': 'Mr.'}\n",
    "\n",
    "def print_greeting(name, surname, title):  # Keys must match parameter names\n",
    "    print(f'Hello {title} {name} {surname}')\n",
    "    \n",
    "print_greeting(**keyword_arguments)"
   ]
  },
  {
   "cell_type": "markdown",
   "metadata": {
    "slideshow": {
     "slide_type": "subslide"
    }
   },
   "source": [
    "Calling another function with the same arguments."
   ]
  },
  {
   "cell_type": "code",
   "execution_count": null,
   "metadata": {
    "slideshow": {
     "slide_type": "fragment"
    }
   },
   "outputs": [],
   "source": [
    "additional_keyword_arguments = {'title': 'Mr.'}  # Convenient if you have parameter names as strings\n",
    "\n",
    "def print_greeting(name, surname, title):\n",
    "    print(f'Hello {title} {name} {surname}')\n",
    "\n",
    "def blackbox(*args, **kwargs):\n",
    "    # All positional arguments are stored in args variable, keyword arguments in kwargs\n",
    "    # print('Positional args:', args, 'Keyword args:', kwargs)\n",
    "    print_greeting(*args, **kwargs)\n",
    "    \n",
    "blackbox('Santa', surname='Claus', **additional_keyword_arguments)"
   ]
  },
  {
   "cell_type": "markdown",
   "metadata": {
    "slideshow": {
     "slide_type": "subslide"
    }
   },
   "source": [
    "## Values returned by a function"
   ]
  },
  {
   "cell_type": "code",
   "execution_count": null,
   "metadata": {
    "slideshow": {
     "slide_type": "subslide"
    }
   },
   "outputs": [],
   "source": [
    "def foo1():\n",
    "    return 1\n",
    "\n",
    "def foo2():\n",
    "    return [1, 2, 'Bar']\n",
    "\n",
    "def foo3():\n",
    "    return (1, 2, 'Bar')\n",
    "\n",
    "def foo4():\n",
    "    return 1, 2, 'Bar'  # Comman operator implicitly creates a tuple\n",
    "\n",
    "print(foo1())\n",
    "print(foo2())\n",
    "print(foo3())\n",
    "print(foo4())"
   ]
  },
  {
   "cell_type": "markdown",
   "metadata": {
    "slideshow": {
     "slide_type": "subslide"
    }
   },
   "source": [
    "Using Assignment operator to extract values"
   ]
  },
  {
   "cell_type": "code",
   "execution_count": null,
   "metadata": {
    "slideshow": {
     "slide_type": "fragment"
    }
   },
   "outputs": [],
   "source": [
    "result = [1, 2]\n",
    "print(result)\n",
    "\n",
    "result = 1, 2\n",
    "print(result)\n",
    "\n",
    "# Assignment operator can extract values from a sequence\n",
    "a, b = [1, 2]\n",
    "print(a, b)\n",
    "\n",
    "a, b = 1, 2\n",
    "print(a, b)"
   ]
  },
  {
   "cell_type": "code",
   "execution_count": null,
   "metadata": {
    "slideshow": {
     "slide_type": "subslide"
    }
   },
   "outputs": [],
   "source": [
    "def foo():\n",
    "    return [1, 2, 'Bar']\n",
    "\n",
    "result = foo()\n",
    "print(result)\n",
    "\n",
    "a, b, bar = foo()\n",
    "print(a)\n",
    "print(b)\n",
    "print(bar)"
   ]
  },
  {
   "cell_type": "code",
   "execution_count": null,
   "metadata": {
    "slideshow": {
     "slide_type": "subslide"
    }
   },
   "outputs": [],
   "source": [
    "# Error is raised if a wrong number of values is being extracted\n",
    "def foo():\n",
    "    return 1, 2, 'Bar'\n",
    "\n",
    "a, b = foo()"
   ]
  },
  {
   "cell_type": "markdown",
   "metadata": {
    "slideshow": {
     "slide_type": "subslide"
    }
   },
   "source": [
    "## Don't Repeat Yourself - DRY"
   ]
  },
  {
   "cell_type": "markdown",
   "metadata": {
    "slideshow": {
     "slide_type": "fragment"
    }
   },
   "source": [
    "Do not dublicate code. Instead write a reusable code block."
   ]
  },
  {
   "cell_type": "code",
   "execution_count": null,
   "metadata": {
    "slideshow": {
     "slide_type": "fragment"
    }
   },
   "outputs": [],
   "source": [
    "my_list = [1, 2, 3]\n",
    "square_sum = 0\n",
    "for elem in my_list:\n",
    "    square_sum += elem**2       # += operator adds expresion value to variable\n",
    "value = square_sum"
   ]
  },
  {
   "cell_type": "code",
   "execution_count": null,
   "metadata": {
    "slideshow": {
     "slide_type": "fragment"
    }
   },
   "outputs": [],
   "source": [
    "another_list = [4, 5, 6, 7]"
   ]
  },
  {
   "cell_type": "code",
   "execution_count": null,
   "metadata": {
    "slideshow": {
     "slide_type": "fragment"
    }
   },
   "outputs": [],
   "source": [
    "def get_square_sum(numbers):\n",
    "    square_sum = 0\n",
    "    for elem in my_list:\n",
    "        square_sum += elem**2\n",
    "    return square_sum\n",
    "\n",
    "value = get_square_sum(my_list)\n",
    "another_value = get_square_sum(another_list)"
   ]
  },
  {
   "cell_type": "markdown",
   "metadata": {
    "slideshow": {
     "slide_type": "subslide"
    }
   },
   "source": [
    "## Function can have `docstrings` - documentation built into the code"
   ]
  },
  {
   "cell_type": "code",
   "execution_count": null,
   "metadata": {
    "slideshow": {
     "slide_type": "fragment"
    }
   },
   "outputs": [],
   "source": [
    "def fibonacci(n):\n",
    "    '''Returns n`th Fibonacci number (n'th number is equal to n-1'th + n-2'th)\n",
    "    The sequence starts with: 0 1 1 2 3 5 8 13 21 34 55 89 144 ...'''\n",
    "    pass"
   ]
  },
  {
   "cell_type": "markdown",
   "metadata": {
    "slideshow": {
     "slide_type": "subslide"
    }
   },
   "source": [
    "## Recursion"
   ]
  },
  {
   "cell_type": "markdown",
   "metadata": {
    "slideshow": {
     "slide_type": "fragment"
    }
   },
   "source": [
    "**Recursion** in programming is basically calling a function from inside itself, with different parameters."
   ]
  },
  {
   "cell_type": "code",
   "execution_count": null,
   "metadata": {
    "slideshow": {
     "slide_type": "fragment"
    }
   },
   "outputs": [],
   "source": [
    "def fibonacci(n):\n",
    "    '''Returns n`th Fibonacci number (n'th number is equal to n-1'th + n-2'th)\n",
    "    The sequence starts with: 0 1 1 2 3 5 8 13 21 34 55 89 144 ...'''\n",
    "    if n < 2:\n",
    "        return n\n",
    "    return fibonacci(n-1) + fibonacci(n-2)\n",
    "        \n",
    "print(fibonacci(7))"
   ]
  },
  {
   "cell_type": "markdown",
   "metadata": {
    "slideshow": {
     "slide_type": "subslide"
    }
   },
   "source": [
    "## Split amount into banknotes using recursion"
   ]
  },
  {
   "cell_type": "code",
   "execution_count": 1,
   "metadata": {
    "slideshow": {
     "slide_type": "fragment"
    }
   },
   "outputs": [],
   "source": [
    "def split(amount, banknotes):\n",
    "    '''Splits given amount into banknotes using recursion'''\n",
    "    banknotes = sorted(banknotes, reverse=True)\n",
    "    \n",
    "    for banknote in banknotes:\n",
    "        if round(amount, 8) == banknote:\n",
    "            return [banknote]\n",
    "        elif round(amount, 8) > banknote:\n",
    "            solution = split(amount - banknote, banknotes)\n",
    "            if solution is not False: \n",
    "                return [banknote] + solution\n",
    "    return False"
   ]
  },
  {
   "cell_type": "code",
   "execution_count": 4,
   "metadata": {
    "slideshow": {
     "slide_type": "fragment"
    }
   },
   "outputs": [
    {
     "name": "stdout",
     "output_type": "stream",
     "text": [
      "True\n",
      "[50, 2, 2, 2, 2]\n"
     ]
    }
   ],
   "source": [
    "print(split(11, [5, 2]) == [5, 2, 2, 2]) \n",
    "print(split(58, [5, 2, 50]))"
   ]
  },
  {
   "cell_type": "code",
   "execution_count": null,
   "metadata": {
    "slideshow": {
     "slide_type": "subslide"
    }
   },
   "outputs": [],
   "source": [
    "# T5: Write a function `count_positive_and_negative` which gets a sequence of numbers\n",
    "# and returns the number of positive and negative numbers in it\n",
    "\n",
    "## These checks should evaluate to true:\n",
    "# positive, negative = count_positive_and_negative([1, 2, 3, -1, -2, -3, 0, 99])\n",
    "# print(positive == 4)\n",
    "# print(negative == 3)"
   ]
  },
  {
   "cell_type": "code",
   "execution_count": null,
   "metadata": {
    "slideshow": {
     "slide_type": "fragment"
    }
   },
   "outputs": [],
   "source": [
    "# T6: Write a function `double_even_numbers` which gets a list of numbers and\n",
    "# returns a new list in which numbers with odd index are doubled.\n",
    "\n",
    "## These checks should evaluate to true:\n",
    "# print(double_even_numbers([0, 1, 2, 3, 4, 5, 6, 7]) == [0, 2, 2, 6, 4, 10, 6, 14])\n",
    "# print(double_even_numbers([1, 1, 7, 2, 3, 4]) == [1, 2, 7, 4, 3, 8])"
   ]
  },
  {
   "cell_type": "markdown",
   "metadata": {
    "slideshow": {
     "slide_type": "subslide"
    }
   },
   "source": [
    "## Functions are objects"
   ]
  },
  {
   "cell_type": "markdown",
   "metadata": {
    "slideshow": {
     "slide_type": "fragment"
    }
   },
   "source": [
    "Functions are like callable variables."
   ]
  },
  {
   "cell_type": "code",
   "execution_count": null,
   "metadata": {
    "slideshow": {
     "slide_type": "fragment"
    }
   },
   "outputs": [],
   "source": [
    "def square(x):\n",
    "    return x**2\n",
    "\n",
    "print(square, square(2))\n",
    "\n",
    "tmp_variable = square\n",
    "square = 'My function is gone'\n",
    "\n",
    "print(square, tmp_variable, tmp_variable(4))"
   ]
  },
  {
   "cell_type": "markdown",
   "metadata": {
    "slideshow": {
     "slide_type": "subslide"
    }
   },
   "source": [
    "## One liner functions"
   ]
  },
  {
   "cell_type": "markdown",
   "metadata": {
    "slideshow": {
     "slide_type": "fragment"
    }
   },
   "source": [
    "**lambda** keyword is used to define functions in one line, the syntax is as follows:\n",
    "\n",
    "`lambda <parameters>: <expression, which value will be returned>`"
   ]
  },
  {
   "cell_type": "code",
   "execution_count": null,
   "metadata": {
    "slideshow": {
     "slide_type": "fragment"
    }
   },
   "outputs": [],
   "source": [
    "square = lambda x: x**2\n",
    "\n",
    "print(square, square(2))"
   ]
  },
  {
   "cell_type": "markdown",
   "metadata": {
    "slideshow": {
     "slide_type": "fragment"
    }
   },
   "source": [
    "It is possible to pass a function object to another function, just like any other variable value."
   ]
  },
  {
   "cell_type": "markdown",
   "metadata": {
    "slideshow": {
     "slide_type": "subslide"
    }
   },
   "source": [
    "## Decorators"
   ]
  },
  {
   "cell_type": "markdown",
   "metadata": {
    "slideshow": {
     "slide_type": "fragment"
    }
   },
   "source": [
    "**Decorator** in Python is a callable Python object that is used to modify a function, method or class definition."
   ]
  },
  {
   "cell_type": "code",
   "execution_count": null,
   "metadata": {
    "slideshow": {
     "slide_type": "subslide"
    }
   },
   "outputs": [],
   "source": [
    "def foo(a):\n",
    "    return a**2"
   ]
  },
  {
   "cell_type": "code",
   "execution_count": null,
   "metadata": {
    "slideshow": {
     "slide_type": "fragment"
    }
   },
   "outputs": [],
   "source": [
    "def bar(func):\n",
    "    def bar_wrap(*args, **kwargs):\n",
    "        print('Bar called')\n",
    "        return func(*args, **kwargs)\n",
    "    return bar_wrap"
   ]
  },
  {
   "cell_type": "code",
   "execution_count": null,
   "metadata": {
    "slideshow": {
     "slide_type": "fragment"
    }
   },
   "outputs": [],
   "source": [
    "decorated_foo = bar(foo)\n",
    "print(decorated_foo(2))"
   ]
  },
  {
   "cell_type": "code",
   "execution_count": null,
   "metadata": {
    "slideshow": {
     "slide_type": "fragment"
    }
   },
   "outputs": [],
   "source": [
    "@bar\n",
    "def decorated_foo(a):\n",
    "    return a**2 \n",
    "print(decorated_foo(3))"
   ]
  },
  {
   "cell_type": "code",
   "execution_count": null,
   "metadata": {
    "slideshow": {
     "slide_type": "subslide"
    }
   },
   "outputs": [],
   "source": [
    "def show_input_output(func):\n",
    "    def bar_wrap(*args, **kwargs):\n",
    "        result = func(*args, **kwargs)\n",
    "        print(f'{func} was called with {args}, {kwargs} and returned {result}')\n",
    "        return result\n",
    "    return bar_wrap\n",
    "              \n",
    "def get_greeting(name):\n",
    "    return f'Hello {name}!'\n",
    "\n",
    "print(show_input_output(get_greeting)('world'))"
   ]
  },
  {
   "cell_type": "code",
   "execution_count": null,
   "metadata": {
    "slideshow": {
     "slide_type": "fragment"
    }
   },
   "outputs": [],
   "source": [
    "@show_input_output\n",
    "def get_greeting(name):\n",
    "    return f'Hello {name}!'\n",
    "\n",
    "print(get_greeting('world'))"
   ]
  }
 ],
 "metadata": {
  "celltoolbar": "Slideshow",
  "kernelspec": {
   "display_name": "Python 3",
   "language": "python",
   "name": "python3"
  },
  "language_info": {
   "codemirror_mode": {
    "name": "ipython",
    "version": 3
   },
   "file_extension": ".py",
   "mimetype": "text/x-python",
   "name": "python",
   "nbconvert_exporter": "python",
   "pygments_lexer": "ipython3",
   "version": "3.7.3"
  }
 },
 "nbformat": 4,
 "nbformat_minor": 2
}
