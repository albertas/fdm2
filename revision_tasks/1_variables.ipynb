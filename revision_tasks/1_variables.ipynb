{
 "cells": [
  {
   "cell_type": "markdown",
   "metadata": {},
   "outputs": [],
   "source": [
    "# Python variables\n",
    "### Lets run our first code snippet, which prints \"Hello world!\":"
   ]
  },
  {
   "cell_type": "code",
   "metadata": {},
   "outputs": [],
   "source": [
    "print('Hello world!')"
   ]
  },
  {
   "cell_type": "markdown",
   "metadata": {},
   "outputs": [],
   "source": [
    "### Lets see how a program crashes:"
   ]
  },
  {
   "cell_type": "code",
   "metadata": {},
   "outputs": [],
   "source": [
    "print('Hello world!'"
   ]
  },
  {
   "cell_type": "markdown",
   "metadata": {},
   "outputs": [],
   "source": [
    "### T1: Please fix the errors above and below:"
   ]
  },
  {
   "cell_type": "code",
   "metadata": {},
   "outputs": [],
   "source": [
    "print('Hello world!"
   ]
  },
  {
   "cell_type": "markdown",
   "metadata": {},
   "outputs": [],
   "source": [
    "## Program\n",
    "### Program is a sequential set of instructions. All instructions are executed one by one in a row."
   ]
  },
  {
   "cell_type": "code",
   "metadata": {},
   "outputs": [],
   "source": [
    "print('Hello')\n",
    "print('world')\n",
    "print('!')"
   ]
  },
  {
   "cell_type": "markdown",
   "metadata": {},
   "outputs": [],
   "source": [
    "## Comments\n",
    "### T2: Sharp symbol `#` comments out everything till the end of line. Please comment out this failing code:"
   ]
  },
  {
   "cell_type": "code",
   "metadata": {},
   "outputs": [],
   "source": [
    "# Comment these three lines:\n",
    "print('Hello'  # Whole line has to commented\n",
    "print('world'\n",
    "print('!'"
   ]
  },
  {
   "cell_type": "markdown",
   "metadata": {},
   "outputs": [],
   "source": [
    "## Variables\n",
    "### Variable is like a memory box, where some data can be stored"
   ]
  },
  {
   "cell_type": "code",
   "metadata": {},
   "outputs": [],
   "source": [
    "count = 1  # Variable has a name `count` and a value `1`\n",
    "# You can pass variable to a `print()` function to print its value\n",
    "print(count)\n",
    "# You can also pass several values to print function\n",
    "print('Count value is:', count)"
   ]
  },
  {
   "cell_type": "code",
   "metadata": {},
   "outputs": [],
   "source": [
    "# Variable names should start with a letter or _ and can contain letters, _ and digits\n",
    "full_name = 'Santa Claus'  # Correct\n",
    "# T3: Please correct the error:\n",
    "2_day_of_weak = 'Tuesday'   # Wrong"
   ]
  },
  {
   "cell_type": "code",
   "metadata": {},
   "outputs": [],
   "source": [
    "# Python coding style requires to use snake_case for all variable names\n",
    "# This means that you should use all lower cased letters and _ to separate words, e.g.:\n",
    "full_name = 'Santa Claus'\n",
    "count = 1\n",
    "# T4: Please fix this incorrect variable naming: \n",
    "FullName = 'Santa Claus'\n",
    "CounT = 1\n",
    "Last_Name = 'Claus'\n",
    "First_name = 'Santa'"
   ]
  },
  {
   "cell_type": "code",
   "metadata": {},
   "outputs": [],
   "source": [
    "# Variable value has a type, which can be returned by `type()` function:\n",
    "print(type('Santa Claus'))\n",
    "print(type(1))"
   ]
  },
  {
   "cell_type": "code",
   "metadata": {},
   "outputs": [],
   "source": [
    "# Different types of values can be assigned to the same variable:\n",
    "weekday = 2\n",
    "print(weekday)\n",
    "weekday = 'Tuesday'    # Be careful, usually you don't need to overide the value type\n",
    "print(weekday)"
   ]
  },
  {
   "cell_type": "code",
   "metadata": {},
   "outputs": [],
   "source": [
    "# T5: Create a variable to store current year, set its value \n",
    "# print the value of it"
   ]
  },
  {
   "cell_type": "code",
   "metadata": {},
   "outputs": [],
   "source": [
    "# Variable types can be converted from on to another by using type functions, e.g. \n",
    "weekday = 2\n",
    "print(str(weekday))\n",
    "print(float(weekday))\n",
    "print(bool(weekday))"
   ]
  },
  {
   "cell_type": "markdown",
   "metadata": {},
   "outputs": [],
   "source": [
    "### Common datatypes in Python"
   ]
  },
  {
   "cell_type": "markdown",
   "metadata": {},
   "outputs": [],
   "source": [
    "| Type                        |  **Example**       |  **Function** | Is mutable |    **Description**    |\n",
    "|-----------------------------|--------------------|--------------|----|-----------------------\n",
    "| **None**           |         `None`             &nbsp; |   &nbsp;                    |  Immutable |     No value was assigned  |\n",
    "| **Boolean**                &nbsp; | `True`              &nbsp; |   &nbsp; `bool()`      &nbsp; | Immutable | `True` or `False`             |\n",
    "| **Integer**                &nbsp; | `1`                 &nbsp; |  &nbsp; `int()`      &nbsp;  | Immutable |                            |\n",
    "| **Floating point number**  &nbsp; | `3.14`              &nbsp; |  &nbsp; `float()`    &nbsp;  | Immutable |                            |\n",
    "| **String**                 &nbsp; | `'Hello'`           &nbsp; |  &nbsp; `str()`      &nbsp;  | Immutable |                            |\n",
    "| **List**                   &nbsp; | `[1, 1, 2]`         &nbsp; |  &nbsp; `list()`     &nbsp;  | Mutable | Sequence of values         |\n",
    "| **Tuple**                  &nbsp; | `(1, 1, 2)`         &nbsp; |  &nbsp; `tuple()`     &nbsp; | Immutable | Unmodifiable list          |\n",
    "| **Dictionary**             &nbsp; | `{'name': 'Foo'}`   &nbsp; |  &nbsp; `dict()`      &nbsp; | Mutable | Key-value mapping          |\n",
    "| **Set**                    &nbsp; | `{1, 2}`            &nbsp; |  &nbsp; `set()`      &nbsp;  | Mutable | List with unique elements  |\n"
   ]
  },
  {
   "cell_type": "markdown",
   "metadata": {},
   "outputs": [],
   "source": [
    "## List"
   ]
  },
  {
   "cell_type": "code",
   "metadata": {},
   "outputs": [],
   "source": [
    "numbers = [1, 2, 3, 4, 5, 6, 7]   # Created a new list containing numbers\n",
    "print(numbers[0])   # Retrieve first element, elements are numbered starting 0 in Python"
   ]
  },
  {
   "cell_type": "code",
   "metadata": {},
   "outputs": [],
   "source": [
    "numbers = [1, 2, 3, 4, 5, 6, 7] \n",
    "print(numbers[-1])   # Retrieve the last element; negative indexes are counted from the ending\n",
    "print(numbers[-2])   # Retrieve second element from the end"
   ]
  },
  {
   "cell_type": "code",
   "metadata": {},
   "outputs": [],
   "source": [
    "numbers = [1, 2, 3]\n",
    "numbers.append(10) # Add element to a list\n",
    "print(numbers)"
   ]
  },
  {
   "cell_type": "code",
   "metadata": {},
   "outputs": [],
   "source": [
    "numbers = [4, 6, 3, 1, 5, 2, 7]\n",
    "# Built in helper functions allows to do some actions with a list\n",
    "print('Number of elements in a list', len(numbers)) \n",
    "print('Sum of the elements in a list', sum(numbers))\n",
    "print('Maximum number in a list', max(numbers))\n",
    "print('Minimum number in a list', min(numbers))\n",
    "print('Sorted elements of a list', sorted(numbers))"
   ]
  },
  {
   "cell_type": "code",
   "metadata": {},
   "outputs": [],
   "source": [
    "# T6: Find average value of this list (note: use sum() and len()) and assign it to a variable:\n",
    "numbers = [4, 6, 3, 1, 5, 2, 7]\n",
    "# Add the average value to the list.\n",
    "# Note: variable name should explicitly state what it is storing, avoid using one letter names such as `x`, `a`, `y` if possible. The names `average` and `avg` are most suitable in this case."
   ]
  },
  {
   "cell_type": "markdown",
   "metadata": {},
   "outputs": [],
   "source": [
    "### List slicing: select elements `from`, `to` with `step`"
   ]
  },
  {
   "cell_type": "code",
   "metadata": {},
   "outputs": [],
   "source": [
    "numbers = [0, 1, 2, 3, 4, 5, 6, 7, 8, 9]\n",
    "# Slicing uses from:to:step syntax, default step is 1\n",
    "print(numbers[2:4])   # Get elements from 2 to 4 (Note: 4'th element is not included)\n",
    "print(numbers[5:])    # Return all elements from 5'th (number starts from 0)\n",
    "print(numbers[:-2])   # Get all elements, except the last two\n",
    "print(numbers[:7:3])  # Get every 3'rd element from begining to 7'th element\n",
    "print(numbers[::-1])  # Get all elements in reversed order"
   ]
  },
  {
   "cell_type": "code",
   "metadata": {},
   "outputs": [],
   "source": [
    "# Generate a list of numbers using from, to, step\n",
    "print(list(range(10)))       # Generates a list with 10 values starting with 0\n",
    "print(list(range(1, 10)))    # Generates a list with 9 values starting with 1\n",
    "print(list(range(1, 10, 2))) # Generates a list with odd numbers up to 10"
   ]
  },
  {
   "cell_type": "code",
   "metadata": {},
   "outputs": [],
   "source": [
    "# T7: generate a list with 20 values from 1 to 21 (including 21) and print it\n",
    "# Also print only odd numbers from the generated list"
   ]
  },
  {
   "cell_type": "code",
   "metadata": {},
   "outputs": [],
   "source": [
    "# A list can contain different data types, e.g.:\n",
    "random_values = [1, 'a', True, [1, 2], 1.5]"
   ]
  },
  {
   "cell_type": "markdown",
   "metadata": {},
   "outputs": [],
   "source": [
    "## Dictionary"
   ]
  },
  {
   "cell_type": "code",
   "execution_count": 88,
   "metadata": {},
   "outputs": [
    {
     "name": "stdout",
     "output_type": "stream",
     "text": "{'a': 1, 'b': 2, 'c': 3}\n"
    }
   ],
   "source": [
    "# Dictionary is key-value mapping:\n",
    "store = {'a': 1, 'b': 2, 'c': 3}\n",
    "print(store)"
   ]
  },
  {
   "cell_type": "code",
   "execution_count": 86,
   "metadata": {},
   "outputs": [
    {
     "name": "stdout",
     "output_type": "stream",
     "text": "1\n{'a': 1, 'b': 2, 'c': 3, 'd': 4}\n"
    }
   ],
   "source": [
    "store = {'a': 1, 'b': 2, 'c': 3}\n",
    "print(store['a'])  # You can retrieve value for a key\n",
    "store['d'] = 4     # You can add new key-value pair to a dictionary by assigning value\n",
    "print(store)   "
   ]
  },
  {
   "cell_type": "code",
   "execution_count": 77,
   "metadata": {},
   "outputs": [
    {
     "ename": "TypeError",
     "evalue": "unhashable type: 'list'",
     "output_type": "error",
     "traceback": [
      "\u001b[1;31m---------------------------------------------------------------------------\u001b[0m",
      "\u001b[1;31mTypeError\u001b[0m                                 Traceback (most recent call last)",
      "\u001b[1;32m<ipython-input-77-0ed75ae38a98>\u001b[0m in \u001b[0;36m<module>\u001b[1;34m\u001b[0m\n\u001b[0;32m      1\u001b[0m \u001b[1;31m# Only **immutable** type objects can be dictionary keys.\u001b[0m\u001b[1;33m\u001b[0m\u001b[1;33m\u001b[0m\u001b[1;33m\u001b[0m\u001b[0m\n\u001b[0;32m      2\u001b[0m \u001b[1;31m# See how this breaks, because list (mutable value) cannot be key\u001b[0m\u001b[1;33m\u001b[0m\u001b[1;33m\u001b[0m\u001b[1;33m\u001b[0m\u001b[0m\n\u001b[1;32m----> 3\u001b[1;33m \u001b[0mstore\u001b[0m \u001b[1;33m=\u001b[0m \u001b[1;33m{\u001b[0m\u001b[1;33m[\u001b[0m\u001b[1;34m'a'\u001b[0m\u001b[1;33m,\u001b[0m \u001b[1;34m'b'\u001b[0m\u001b[1;33m,\u001b[0m \u001b[1;34m'c'\u001b[0m\u001b[1;33m]\u001b[0m\u001b[1;33m:\u001b[0m \u001b[1;36m1\u001b[0m\u001b[1;33m}\u001b[0m\u001b[1;33m\u001b[0m\u001b[1;33m\u001b[0m\u001b[0m\n\u001b[0m",
      "\u001b[1;31mTypeError\u001b[0m: unhashable type: 'list'"
     ]
    }
   ],
   "source": [
    "# Only **immutable** type objects can be dictionary keys.\n",
    "# See how this breaks, because list (mutable value) cannot be key\n",
    "store = {['a', 'b', 'c']: 1}   "
   ]
  },
  {
   "cell_type": "code",
   "execution_count": 76,
   "metadata": {},
   "outputs": [
    {
     "name": "stdout",
     "output_type": "stream",
     "text": "{('a', 'b', 'c'): 1}\n"
    }
   ],
   "source": [
    "# However tuple is immutable and this works\n",
    "store = {tuple(['a', 'b', 'c']): 1}   \n",
    "print(store)"
   ]
  },
  {
   "cell_type": "code",
   "execution_count": 82,
   "metadata": {},
   "outputs": [
    {
     "name": "stdout",
     "output_type": "stream",
     "text": "{'a': [1, 2, 3, 4]}\n"
    }
   ],
   "source": [
    "# Any type objects can be dictionary values.\n",
    "store = {'a': [1, 2, 3, 4]}   \n",
    "print(store)"
   ]
  },
  {
   "cell_type": "code",
   "execution_count": null,
   "metadata": {},
   "outputs": [],
   "source": [
    "prices = {'apple': 1, 'banana': 4, 'orange': 2}\n",
    "counts = {'apple': 10, 'banana': 3, 'orange': 6}\n",
    "# T8: Add 'lemon' with value 3 to  `prices` dictionary and with value 5 to `counts` dictionary:\n",
    "\n",
    "# Create a new dictionary `shop`, where keys are fruit names and values are inner dictionries with keys `price` and `count`:\n",
    "\n",
    "# print the `shop` dictionray, print 'lemon' key of the `shop` dictionray:"
   ]
  },
  {
   "cell_type": "code",
   "execution_count": null,
   "metadata": {},
   "outputs": [],
   "source": [
    "empty_dict = {}\n",
    "# See what happens if you try to access value of non-existing key\n",
    "empty_dict['apple']"
   ]
  },
  {
   "cell_type": "code",
   "execution_count": 91,
   "metadata": {},
   "outputs": [
    {
     "name": "stdout",
     "output_type": "stream",
     "text": "None\nApple is not found\n"
    }
   ],
   "source": [
    "empty_dict = {}\n",
    "# You could use get method to provide default value in order to avoid exception when key does not exist\n",
    "print(empty_dict.get('apple'))\n",
    "print(empty_dict.get('apple', 'Apple is not found'))"
   ]
  },
  {
   "cell_type": "code",
   "execution_count": 94,
   "metadata": {},
   "outputs": [],
   "source": [
    "counts = {'apple': 10, 'banana': 0, 'orange': 6}\n",
    "fruit = 'lemon'\n",
    "# T9: print fruit variable count in `counts` dictionary"
   ]
  },
  {
   "cell_type": "markdown",
   "metadata": {},
   "outputs": [],
   "source": [
    "## String"
   ]
  },
  {
   "cell_type": "code",
   "metadata": {},
   "outputs": [],
   "source": [
    "# A new string can be constructed using formatting string:\n",
    "name = 'Santa'\n",
    "greeting = f'Hello {name}'\n",
    "print(greeting)"
   ]
  },
  {
   "cell_type": "code",
   "metadata": {},
   "outputs": [],
   "source": [
    "# Strings can be concattenated using + operator:\n",
    "name = 'Santa'\n",
    "surname = 'Claus'\n",
    "print(name + ' ' + surname)"
   ]
  },
  {
   "cell_type": "code",
   "metadata": {},
   "outputs": [],
   "source": [
    "# List of strings can be concatenated using provided separator:\n",
    "names = ['John', 'Santa', 'Jim']\n",
    "print(', '.join(names))"
   ]
  },
  {
   "cell_type": "code",
   "metadata": {},
   "outputs": [],
   "source": [
    "# T10: Print 'Hello world!' using formatting string\n",
    "greeting = 'Hello'\n",
    "name = 'world' "
   ]
  },
  {
   "cell_type": "markdown",
   "metadata": {},
   "outputs": [],
   "source": [
    "## Boolean"
   ]
  },
  {
   "cell_type": "code",
   "metadata": {},
   "outputs": [],
   "source": [
    "# Allowed operators are `and`, `or`, `not`\n",
    "print(True and False)\n",
    "print(True or False)\n",
    "print(not True)\n",
    "print(not False)"
   ]
  },
  {
   "cell_type": "code",
   "execution_count": 97,
   "metadata": {},
   "outputs": [
    {
     "name": "stdout",
     "output_type": "stream",
     "text": "False True\nFalse True\nFalse True\nFalse True\nFalse True\nFalse\n"
    }
   ],
   "source": [
    "# Empty values converts to False, not empty to True\n",
    "print(bool(0), bool(-1))\n",
    "print(bool(0.0), bool(10.0))\n",
    "print(bool(''), bool('foo'))\n",
    "print(bool([]), bool([False]))\n",
    "print(bool({}), bool([{'foo': False}]))\n",
    "print(bool(None))  # None is also treated as empty value"
   ]
  },
  {
   "cell_type": "markdown",
   "metadata": {},
   "outputs": [],
   "source": [
    "## Pitfall with Mutable values"
   ]
  },
  {
   "cell_type": "code",
   "metadata": {},
   "outputs": [],
   "source": [
    "a = [1, 2]\n",
    "# A reference to value is assigned for mutable types instead of value \n",
    "b = a  # T11: Update this line to avoid `a` modifications, when `b` is modified (slice `[:]` to select all elements could be used)\n",
    "b.append(3)\n",
    "print('a:', a)\n",
    "print('b:', b)\n"
   ]
  },
  {
   "cell_type": "code",
   "metadata": {},
   "outputs": [],
   "source": []
  }
 ],
 "metadata": {
  "kernelspec": {
   "display_name": "Python 3",
   "language": "python",
   "name": "python3"
  },
  "language_info": {
   "codemirror_mode": {
    "name": "ipython",
    "version": 3
   },
   "file_extension": ".py",
   "mimetype": "text/x-python",
   "name": "python",
   "nbconvert_exporter": "python",
   "pygments_lexer": "ipython3",
   "version": "3.7.3"
  }
 },
 "nbformat": 4,
 "nbformat_minor": 4
}