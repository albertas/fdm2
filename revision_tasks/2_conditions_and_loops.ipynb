{
 "cells": [
  {
   "cell_type": "markdown",
   "metadata": {
    "slideshow": {
     "slide_type": "slide"
    }
   },
   "source": [
    "# Conditions and loops"
   ]
  },
  {
   "cell_type": "markdown",
   "metadata": {
    "slideshow": {
     "slide_type": "fragment"
    }
   },
   "source": [
    "A **statement** is a code unit which expresses an action to be carried out.\n",
    "\n",
    "We have already learned an **assignment** statement, which assigns a value to a variable."
   ]
  },
  {
   "cell_type": "markdown",
   "metadata": {
    "slideshow": {
     "slide_type": "subslide"
    }
   },
   "source": [
    "## Assignment statement"
   ]
  },
  {
   "cell_type": "code",
   "execution_count": 1,
   "metadata": {
    "slideshow": {
     "slide_type": "fragment"
    }
   },
   "outputs": [],
   "source": [
    "count = 1\n",
    "full_name = 'Santa Claus'\n",
    "weekdays = ['Monday', 'Tuesday', 'Wednesday', 'Thursday','Friday','Saturday','Sunday']"
   ]
  },
  {
   "cell_type": "code",
   "execution_count": 2,
   "metadata": {
    "slideshow": {
     "slide_type": "fragment"
    }
   },
   "outputs": [
    {
     "ename": "NameError",
     "evalue": "name 'non_existing_variable' is not defined",
     "output_type": "error",
     "traceback": [
      "\u001b[1;31m---------------------------------------------------------------------------\u001b[0m",
      "\u001b[1;31mNameError\u001b[0m                                 Traceback (most recent call last)",
      "\u001b[1;32m<ipython-input-2-be15e0660617>\u001b[0m in \u001b[0;36m<module>\u001b[1;34m\u001b[0m\n\u001b[0;32m      1\u001b[0m \u001b[1;31m# Exception is raised if an attempt to access a value of not existing variable is made\u001b[0m\u001b[1;33m\u001b[0m\u001b[1;33m\u001b[0m\u001b[1;33m\u001b[0m\u001b[0m\n\u001b[1;32m----> 2\u001b[1;33m \u001b[0mprint\u001b[0m\u001b[1;33m(\u001b[0m\u001b[0mnon_existing_variable\u001b[0m\u001b[1;33m)\u001b[0m\u001b[1;33m\u001b[0m\u001b[1;33m\u001b[0m\u001b[0m\n\u001b[0m",
      "\u001b[1;31mNameError\u001b[0m: name 'non_existing_variable' is not defined"
     ]
    }
   ],
   "source": [
    "# Exception is raised if an attempt to access a value of not existing variable is made \n",
    "print(non_existing_variable)"
   ]
  },
  {
   "cell_type": "code",
   "execution_count": 4,
   "metadata": {
    "slideshow": {
     "slide_type": "fragment"
    }
   },
   "outputs": [
    {
     "name": "stdout",
     "output_type": "stream",
     "text": [
      "Hello\n",
      "Hello world!\n"
     ]
    }
   ],
   "source": [
    "# Assignment creates a variable if it does not exist and updates its value if does exist\n",
    "my_variable = 'Hello'\n",
    "print(my_variable)\n",
    "\n",
    "my_variable = my_variable + ' world!'\n",
    "print(my_variable)"
   ]
  },
  {
   "cell_type": "code",
   "execution_count": 5,
   "metadata": {
    "slideshow": {
     "slide_type": "subslide"
    }
   },
   "outputs": [
    {
     "name": "stdout",
     "output_type": "stream",
     "text": [
      "1\n",
      "2\n",
      "3\n"
     ]
    }
   ],
   "source": [
    "# A single assignment statement can also assign values to multiple variables\n",
    "a, b, c = 1, 2, 3\n",
    "print(a)\n",
    "print(b)\n",
    "print(c)"
   ]
  },
  {
   "cell_type": "code",
   "execution_count": 6,
   "metadata": {
    "slideshow": {
     "slide_type": "fragment"
    }
   },
   "outputs": [
    {
     "name": "stdout",
     "output_type": "stream",
     "text": [
      "1\n",
      "2\n",
      "3\n"
     ]
    }
   ],
   "source": [
    "# The values can also be unpacked from a sequence, e.g. list, tuple\n",
    "values = [1, 2, 3]\n",
    "a, b, c = values\n",
    "print(a)\n",
    "print(b)\n",
    "print(c)"
   ]
  },
  {
   "cell_type": "code",
   "execution_count": 7,
   "metadata": {
    "slideshow": {
     "slide_type": "subslide"
    }
   },
   "outputs": [
    {
     "name": "stdout",
     "output_type": "stream",
     "text": [
      "1\n",
      "3\n"
     ]
    }
   ],
   "source": [
    "values = [1, 2, 3]\n",
    "first, last = values[0], values[-1]\n",
    "print(first)\n",
    "print(last)"
   ]
  },
  {
   "cell_type": "code",
   "execution_count": 8,
   "metadata": {
    "slideshow": {
     "slide_type": "fragment"
    }
   },
   "outputs": [
    {
     "name": "stdout",
     "output_type": "stream",
     "text": [
      "[0, 2]\n"
     ]
    }
   ],
   "source": [
    "x = [0, 1]\n",
    "i = 0\n",
    "i, x[i] = 1, 2         # i is updated, then x[i] is updated\n",
    "print(x)"
   ]
  },
  {
   "cell_type": "code",
   "execution_count": 9,
   "metadata": {
    "slideshow": {
     "slide_type": "fragment"
    }
   },
   "outputs": [],
   "source": [
    "# An expression can also be assigned\n",
    "calculation = 2 + 2 * 2"
   ]
  },
  {
   "cell_type": "code",
   "execution_count": null,
   "metadata": {
    "slideshow": {
     "slide_type": "fragment"
    }
   },
   "outputs": [],
   "source": [
    "# T1: Create a `count` variable with initial value 10\n",
    "# use `*=` assignment operator to multiple the `count` value by 10\n",
    "# Use `-=` assignment operator to decrease the `count` value by 2\n",
    "# Use `+=` assignment operator to increase the `count` value by 1"
   ]
  },
  {
   "cell_type": "markdown",
   "metadata": {
    "slideshow": {
     "slide_type": "subslide"
    }
   },
   "source": [
    "## Conditional statement"
   ]
  },
  {
   "cell_type": "code",
   "execution_count": 10,
   "metadata": {
    "slideshow": {
     "slide_type": "fragment"
    }
   },
   "outputs": [
    {
     "name": "stdout",
     "output_type": "stream",
     "text": [
      "This will always be printed\n"
     ]
    }
   ],
   "source": [
    "# A statement in Python can have sub-statements.\n",
    "# When sub-statements have to follow, a `:` symbol is used at then end of line \n",
    "# Sub-statements have to be indented by one indentation level\n",
    "# Indentation can be make by 4 spaces or a tab. 4 spaces are recommended.\n",
    "\n",
    "# Example of a conditional statement:\n",
    "if True:\n",
    "    print('This will always be printed')    # This print statement is a sub-statement of the conditional `if` statement"
   ]
  },
  {
   "cell_type": "code",
   "execution_count": null,
   "metadata": {
    "slideshow": {
     "slide_type": "subslide"
    }
   },
   "outputs": [],
   "source": [
    "if condition:\n",
    "    # code block is executed if condition evaluates to True"
   ]
  },
  {
   "cell_type": "code",
   "execution_count": null,
   "metadata": {
    "slideshow": {
     "slide_type": "fragment"
    }
   },
   "outputs": [],
   "source": [
    "if condition:\n",
    "    # code block is executed if condition evaluates to True\n",
    "else:\n",
    "    # code block is executed if condition evaluates to False"
   ]
  },
  {
   "cell_type": "code",
   "execution_count": null,
   "metadata": {
    "slideshow": {
     "slide_type": "fragment"
    }
   },
   "outputs": [],
   "source": [
    "if condition:       # conditional statement always starts with `if\n",
    "    # code block is executed if condition evaluates to True\n",
    "elif condition2:    # conditional statement can have multiple `elif` blocks\n",
    "    # code block is executed if condition2 evaluates to True\n",
    "elif contition3:    \n",
    "    # code block is executed if condition3 evaluates to True \n",
    "else:               # conditional statement can have one `else` statement\n",
    "    # If all the conditions were unsatisfied"
   ]
  },
  {
   "cell_type": "code",
   "execution_count": null,
   "metadata": {
    "slideshow": {
     "slide_type": "subslide"
    }
   },
   "outputs": [],
   "source": [
    "# A command which does nothing can be used to fill required code blocks\n",
    "pass"
   ]
  },
  {
   "cell_type": "code",
   "execution_count": 11,
   "metadata": {
    "slideshow": {
     "slide_type": "fragment"
    }
   },
   "outputs": [
    {
     "name": "stdout",
     "output_type": "stream",
     "text": [
      "Hello Foo\n"
     ]
    }
   ],
   "source": [
    "should_print = False\n",
    "\n",
    "# The value of a condition is always converted to boolean\n",
    "# For example:\n",
    "if should_print:\n",
    "    print('Hello world')\n",
    "    \n",
    "# The above statement is equivalent to:\n",
    "if bool(should_print) == True:\n",
    "    print('Hello world')\n",
    "\n",
    "# So these statements are valid:\n",
    "name = 'Foo'\n",
    "if name:    # bool(name) == True, because `name` value is not empty\n",
    "    print('Hello', name)\n",
    "\n",
    "name = ''\n",
    "if name:    # bool(name) == False, because `name` value is empty\n",
    "    print('Hello', name)"
   ]
  },
  {
   "cell_type": "markdown",
   "metadata": {
    "slideshow": {
     "slide_type": "subslide"
    }
   },
   "source": [
    "### Boolean operators"
   ]
  },
  {
   "cell_type": "code",
   "execution_count": 12,
   "metadata": {
    "slideshow": {
     "slide_type": "fragment"
    }
   },
   "outputs": [
    {
     "name": "stdout",
     "output_type": "stream",
     "text": [
      "True\n",
      "False\n",
      "Foo Bar\n",
      "10\n",
      "10\n",
      "10\n",
      "1\n",
      "None\n"
     ]
    }
   ],
   "source": [
    "# Boolean operators `and`, `or` and `not` work with all types.\n",
    "name = ''\n",
    "full_name = 'Foo Bar'\n",
    "\n",
    "print(not name)       # The bool() is applied to the value before applying `not` operator\n",
    "print(not full_name)   \n",
    "\n",
    "# `and`, `or` operators convert operads to boolean, however the result is the value it self\n",
    "# In `or` case value of the result is the first value, which evaluated to True \n",
    "result = name or full_name\n",
    "print(result)\n",
    "\n",
    "# It is common in Python to use `or` operator to provided default value of variable\n",
    "counts = {'apple': None, 'orange': 0, 'banana': 1}\n",
    "# Lets say we want to order fruits, which are out of stock\n",
    "# And we want to get 10 if count is lower than 1 or count is not set\n",
    "print(counts.get('apple') or 10)\n",
    "print(counts.get('orange') or 10)\n",
    "print(counts.get('lemon') or 10)\n",
    "print(counts.get('banana') or 10)\n",
    "\n",
    "# However, if a default value is provided to a `dict().get()` method, we get None, since its the value \n",
    "print(counts.get('apple', 10))"
   ]
  },
  {
   "cell_type": "code",
   "execution_count": 13,
   "metadata": {
    "slideshow": {
     "slide_type": "fragment"
    }
   },
   "outputs": [
    {
     "name": "stdout",
     "output_type": "stream",
     "text": [
      "Please set a valid number\n",
      "Please set a valid number\n",
      "Please set a valid number\n"
     ]
    }
   ],
   "source": [
    "# If you want to check if value is None you should do it explicitely, e.g.:\n",
    "number = None\n",
    "if number is None:\n",
    "    print('Please set a valid number')\n",
    "\n",
    "# If the check is done implicitely, the behaviour might be no as expected, e.g.:\n",
    "number = None\n",
    "if not number:\n",
    "    print('Please set a valid number')\n",
    "    \n",
    "number = 0\n",
    "if not number:\n",
    "    print('Please set a valid number')"
   ]
  },
  {
   "cell_type": "code",
   "execution_count": null,
   "metadata": {
    "slideshow": {
     "slide_type": "fragment"
    }
   },
   "outputs": [],
   "source": [
    "# T2: Create a variable `state` and print a warning only if its value is equal to None."
   ]
  },
  {
   "cell_type": "markdown",
   "metadata": {
    "slideshow": {
     "slide_type": "fragment"
    }
   },
   "source": [
    "#### Comparison opeartors\n",
    "`<` \tLess than\n",
    "\n",
    "`<=` \tLess than or equal to\n",
    "\n",
    "`==` \tEqual to\n",
    "\n",
    "`>=` \tGreater than or equal to\n",
    "\n",
    "`>` \tGreater than\n",
    "\n",
    "`!=` \tNot equal to"
   ]
  },
  {
   "cell_type": "code",
   "execution_count": null,
   "metadata": {
    "slideshow": {
     "slide_type": "fragment"
    }
   },
   "outputs": [],
   "source": [
    "# T3: Create a variable `state` and print a warning only if its value is equal to 'error'.\n",
    "# Change `state` value to `error` to see the warning message. And change the value to 'ok' to see if warning is not printed."
   ]
  },
  {
   "cell_type": "markdown",
   "metadata": {
    "slideshow": {
     "slide_type": "subslide"
    }
   },
   "source": [
    "### One-liner conditional statements"
   ]
  },
  {
   "cell_type": "code",
   "execution_count": 14,
   "metadata": {
    "slideshow": {
     "slide_type": "fragment"
    }
   },
   "outputs": [
    {
     "name": "stdout",
     "output_type": "stream",
     "text": [
      "1\n",
      "3\n"
     ]
    }
   ],
   "source": [
    "# Python supports onliner conditional statement, it must have both `if` and `else` blocks\n",
    "a = 1\n",
    "b = 2\n",
    "c = a if b > 1 else 3\n",
    "print(c)\n",
    "\n",
    "# The condition evaluates to False\n",
    "a = 1\n",
    "b = 0\n",
    "c = a if b > 1 else 3\n",
    "print(c)"
   ]
  },
  {
   "cell_type": "markdown",
   "metadata": {
    "slideshow": {
     "slide_type": "subslide"
    }
   },
   "source": [
    "## Keep It Simple Stupid - KISS"
   ]
  },
  {
   "cell_type": "markdown",
   "metadata": {
    "slideshow": {
     "slide_type": "fragment"
    }
   },
   "source": [
    "Each code line should contain a simple, easy to understand statement.\n",
    "\n",
    "Do NOT shuffle a lot of logic into one line. "
   ]
  },
  {
   "cell_type": "code",
   "execution_count": 15,
   "metadata": {
    "slideshow": {
     "slide_type": "fragment"
    }
   },
   "outputs": [],
   "source": [
    "# Note: One-line conditional statements should only be used if they are really easy to read\n",
    "# This example should be written using multiple line conditional statement\n",
    "value = 2 * 3 + 2 if (4 + 5) > 3 and 3 < (3 + 1) else 12 + 2\n",
    "\n",
    "# This is way easier to read:\n",
    "if (4 + 5) > 3 and 3 < (3 + 1):\n",
    "    value = 2 * 3 + 2\n",
    "else:\n",
    "    value = 12 + 2"
   ]
  },
  {
   "cell_type": "markdown",
   "metadata": {
    "slideshow": {
     "slide_type": "subslide"
    }
   },
   "source": [
    "## Loop statements"
   ]
  },
  {
   "cell_type": "markdown",
   "metadata": {
    "slideshow": {
     "slide_type": "subslide"
    }
   },
   "source": [
    "### While loop"
   ]
  },
  {
   "cell_type": "code",
   "execution_count": null,
   "metadata": {
    "slideshow": {
     "slide_type": "fragment"
    }
   },
   "outputs": [],
   "source": [
    "# While loop is like conditional statement, except it is executed multiple times till the condition evaluates to False\n",
    "\n",
    "while condition:\n",
    "    # This code block is repeated till the condition evaluates to False"
   ]
  },
  {
   "cell_type": "code",
   "execution_count": 16,
   "metadata": {
    "slideshow": {
     "slide_type": "fragment"
    }
   },
   "outputs": [
    {
     "name": "stdout",
     "output_type": "stream",
     "text": [
      "10\n"
     ]
    }
   ],
   "source": [
    "# While loop example:\n",
    "i = 0\n",
    "while i < 10:\n",
    "    i = i + 1\n",
    "print(i)"
   ]
  },
  {
   "cell_type": "code",
   "execution_count": null,
   "metadata": {
    "slideshow": {
     "slide_type": "subslide"
    }
   },
   "outputs": [],
   "source": [
    "# Note: If a condition of a while loop never evaluates to False, you might get an infinite loop\n",
    "# Infinite loop cases are not handled by Python, so you might have to take care of them\n",
    "# Otherwise computer can run out of resources like memory."
   ]
  },
  {
   "cell_type": "markdown",
   "metadata": {
    "slideshow": {
     "slide_type": "subslide"
    }
   },
   "source": [
    "### For loop"
   ]
  },
  {
   "cell_type": "code",
   "execution_count": null,
   "metadata": {
    "slideshow": {
     "slide_type": "fragment"
    }
   },
   "outputs": [],
   "source": [
    "items = [1, 2]\n",
    "for item in items:\n",
    "    # This code block is executed for each item"
   ]
  },
  {
   "cell_type": "code",
   "execution_count": 17,
   "metadata": {
    "slideshow": {
     "slide_type": "subslide"
    }
   },
   "outputs": [
    {
     "name": "stdout",
     "output_type": "stream",
     "text": [
      "Foo\n",
      "Bar\n",
      "Santa\n"
     ]
    }
   ],
   "source": [
    "# For loop example:\n",
    "names = ['Foo', 'Bar', 'Santa']\n",
    "for name in names:\n",
    "    print(name)"
   ]
  },
  {
   "cell_type": "code",
   "execution_count": 18,
   "metadata": {
    "slideshow": {
     "slide_type": "subslide"
    }
   },
   "outputs": [
    {
     "name": "stdout",
     "output_type": "stream",
     "text": [
      "0 1 2 3 4 5 6 7 8 9 "
     ]
    }
   ],
   "source": [
    "# For loop example:\n",
    "for i in range(10):     # Pythonic way to have 10 iterations\n",
    "    print(i, end=' ')"
   ]
  },
  {
   "cell_type": "code",
   "execution_count": 19,
   "metadata": {
    "slideshow": {
     "slide_type": "subslide"
    }
   },
   "outputs": [
    {
     "name": "stdout",
     "output_type": "stream",
     "text": [
      "True\n",
      "True\n",
      "False\n",
      "False\n"
     ]
    }
   ],
   "source": [
    "# If `in` operator is used not in the loop, it checks wheather first operand is in the second one\n",
    "numbers = [1, 2, 3, 4, 5, 6, 7]\n",
    "print(1 in numbers)\n",
    "print(7.0 in numbers)   # 7 is equal to 7.0\n",
    "print(8 in numbers)\n",
    "print(9.0 in numbers)  "
   ]
  },
  {
   "cell_type": "markdown",
   "metadata": {
    "slideshow": {
     "slide_type": "subslide"
    }
   },
   "source": [
    "### Iterating through multiple values"
   ]
  },
  {
   "cell_type": "code",
   "execution_count": 20,
   "metadata": {
    "slideshow": {
     "slide_type": "fragment"
    }
   },
   "outputs": [
    {
     "name": "stdout",
     "output_type": "stream",
     "text": [
      "1 2 3 "
     ]
    }
   ],
   "source": [
    "for a, b, c in [(1, 'a', 1.), (2, 'b', 2.), (3, 'c', 3.)]:\n",
    "    print(a, end=' ')"
   ]
  },
  {
   "cell_type": "code",
   "execution_count": 21,
   "metadata": {
    "slideshow": {
     "slide_type": "fragment"
    }
   },
   "outputs": [
    {
     "name": "stdout",
     "output_type": "stream",
     "text": [
      "[('name', 'foo'), ('active', True)]\n",
      "name foo; active True; "
     ]
    }
   ],
   "source": [
    "server = {'name': 'foo', 'active': True}      # Iterating through dictionary\n",
    "\n",
    "print(list(server.items()))\n",
    "\n",
    "for key, value in server.items():\n",
    "    print(key, value, end='; ')"
   ]
  },
  {
   "cell_type": "code",
   "execution_count": null,
   "metadata": {
    "slideshow": {
     "slide_type": "subslide"
    }
   },
   "outputs": [],
   "source": [
    "# T3: Write a for loop, which iterates through the fruits and their values\n",
    "# And print their counts: if count is not set or less than 1 print 10\n",
    "fruit_counts = {'apple': None, 'orange': 0, 'banana': 1}"
   ]
  },
  {
   "cell_type": "markdown",
   "metadata": {
    "slideshow": {
     "slide_type": "subslide"
    }
   },
   "source": [
    "### Generators"
   ]
  },
  {
   "cell_type": "code",
   "execution_count": 22,
   "metadata": {
    "slideshow": {
     "slide_type": "fragment"
    }
   },
   "outputs": [
    {
     "name": "stdout",
     "output_type": "stream",
     "text": [
      "range(0, 10)\n",
      "<enumerate object at 0x000001E599382F30>\n"
     ]
    }
   ],
   "source": [
    "print(range(10))\n",
    "print(enumerate(['a', 'b', 'c']))"
   ]
  },
  {
   "cell_type": "code",
   "execution_count": 23,
   "metadata": {
    "slideshow": {
     "slide_type": "fragment"
    }
   },
   "outputs": [
    {
     "name": "stdout",
     "output_type": "stream",
     "text": [
      "[0, 1, 2, 3, 4, 5, 6, 7, 8, 9]\n",
      "[(0, 'a'), (1, 'b'), (2, 'c')]\n"
     ]
    }
   ],
   "source": [
    "print(list(range(10)))\n",
    "print(list(enumerate(['a', 'b', 'c'])))"
   ]
  },
  {
   "cell_type": "code",
   "execution_count": 24,
   "metadata": {
    "slideshow": {
     "slide_type": "subslide"
    }
   },
   "outputs": [
    {
     "name": "stdout",
     "output_type": "stream",
     "text": [
      "(0, 'a')\n",
      "(1, 'b')\n"
     ]
    },
    {
     "ename": "StopIteration",
     "evalue": "",
     "output_type": "error",
     "traceback": [
      "\u001b[1;31m---------------------------------------------------------------------------\u001b[0m",
      "\u001b[1;31mStopIteration\u001b[0m                             Traceback (most recent call last)",
      "\u001b[1;32m<ipython-input-24-154c5028b83f>\u001b[0m in \u001b[0;36m<module>\u001b[1;34m\u001b[0m\n\u001b[0;32m      2\u001b[0m \u001b[0mprint\u001b[0m\u001b[1;33m(\u001b[0m\u001b[0mnext\u001b[0m\u001b[1;33m(\u001b[0m\u001b[0me\u001b[0m\u001b[1;33m)\u001b[0m\u001b[1;33m)\u001b[0m               \u001b[1;31m# You can iterate through them only once\u001b[0m\u001b[1;33m\u001b[0m\u001b[1;33m\u001b[0m\u001b[0m\n\u001b[0;32m      3\u001b[0m \u001b[0mprint\u001b[0m\u001b[1;33m(\u001b[0m\u001b[0mnext\u001b[0m\u001b[1;33m(\u001b[0m\u001b[0me\u001b[0m\u001b[1;33m)\u001b[0m\u001b[1;33m)\u001b[0m\u001b[1;33m\u001b[0m\u001b[1;33m\u001b[0m\u001b[0m\n\u001b[1;32m----> 4\u001b[1;33m \u001b[0mprint\u001b[0m\u001b[1;33m(\u001b[0m\u001b[0mnext\u001b[0m\u001b[1;33m(\u001b[0m\u001b[0me\u001b[0m\u001b[1;33m)\u001b[0m\u001b[1;33m)\u001b[0m\u001b[1;33m\u001b[0m\u001b[1;33m\u001b[0m\u001b[0m\n\u001b[0m",
      "\u001b[1;31mStopIteration\u001b[0m: "
     ]
    }
   ],
   "source": [
    "e = enumerate(['a', 'b'])    # Generators are exhaustible objects\n",
    "print(next(e))               # You can iterate through them only once\n",
    "print(next(e))\n",
    "print(next(e))"
   ]
  },
  {
   "cell_type": "code",
   "execution_count": 25,
   "metadata": {
    "slideshow": {
     "slide_type": "subslide"
    }
   },
   "outputs": [
    {
     "name": "stdout",
     "output_type": "stream",
     "text": [
      "Foo\n",
      "Bar\n",
      "Santa\n"
     ]
    }
   ],
   "source": [
    "# Iterator example\n",
    "names = iter(['Foo', 'Bar', 'Santa'])\n",
    "print(next(names))               \n",
    "print(next(names))\n",
    "print(next(names))"
   ]
  },
  {
   "cell_type": "markdown",
   "metadata": {
    "slideshow": {
     "slide_type": "subslide"
    }
   },
   "source": [
    "### One-liner for loops"
   ]
  },
  {
   "cell_type": "code",
   "execution_count": 26,
   "metadata": {
    "slideshow": {
     "slide_type": "fragment"
    }
   },
   "outputs": [
    {
     "data": {
      "text/plain": [
       "[0, 1, 4, 9, 16, 25, 36, 49, 64, 81]"
      ]
     },
     "execution_count": 26,
     "metadata": {},
     "output_type": "execute_result"
    }
   ],
   "source": [
    "# One-liner loops are usually used to create new list, dictionaries, e.g.:\n",
    "[a**2 for a in range(10)]"
   ]
  },
  {
   "cell_type": "code",
   "execution_count": 27,
   "metadata": {
    "slideshow": {
     "slide_type": "fragment"
    }
   },
   "outputs": [
    {
     "name": "stdout",
     "output_type": "stream",
     "text": [
      "[1, 9, 25, 49, 81]\n"
     ]
    }
   ],
   "source": [
    "# One-liner loop can also have a condition\n",
    "# Iteration is not executed if a condition evaluates to False\n",
    "squares = [a**2 for a in range(10) if a % 2 == 1]\n",
    "print(squares)"
   ]
  },
  {
   "cell_type": "code",
   "execution_count": 28,
   "metadata": {
    "slideshow": {
     "slide_type": "subslide"
    }
   },
   "outputs": [
    {
     "name": "stdout",
     "output_type": "stream",
     "text": [
      "{1: 1, 2: 4, 3: 9, 4: 16, 5: 25, 6: 36, 7: 49, 8: 64, 9: 81}\n"
     ]
    }
   ],
   "source": [
    "# Dictionary construction using iteration\n",
    "number_square_map = {i: i**2 for i in range(1, 10)}\n",
    "print(number_square_map)"
   ]
  },
  {
   "cell_type": "markdown",
   "metadata": {
    "slideshow": {
     "slide_type": "subslide"
    }
   },
   "source": [
    "### Breaking from loops"
   ]
  },
  {
   "cell_type": "markdown",
   "metadata": {
    "slideshow": {
     "slide_type": "fragment"
    }
   },
   "source": [
    "`continue` - jumps to next iteration of a loop.\n",
    "\n",
    "`break` - jumps out of the loop."
   ]
  },
  {
   "cell_type": "code",
   "execution_count": 29,
   "metadata": {
    "slideshow": {
     "slide_type": "subslide"
    }
   },
   "outputs": [
    {
     "name": "stdout",
     "output_type": "stream",
     "text": [
      "Before condition 0\n",
      "After condition 0\n",
      "Before condition 1\n",
      "Before condition 2\n"
     ]
    }
   ],
   "source": [
    "for i in range(3):\n",
    "    print('Before condition', i)\n",
    "    if i >= 1:\n",
    "        continue\n",
    "    print('After condition', i)"
   ]
  },
  {
   "cell_type": "code",
   "execution_count": 30,
   "metadata": {
    "slideshow": {
     "slide_type": "subslide"
    }
   },
   "outputs": [
    {
     "name": "stdout",
     "output_type": "stream",
     "text": [
      "Before condition 0\n",
      "After condition 0\n",
      "Before condition 1\n"
     ]
    }
   ],
   "source": [
    "for i in range(3):\n",
    "    print('Before condition', i)\n",
    "    if i >= 1:\n",
    "        break\n",
    "    print('After condition', i)"
   ]
  },
  {
   "cell_type": "markdown",
   "metadata": {
    "slideshow": {
     "slide_type": "subslide"
    }
   },
   "source": [
    "### For, While loop else clause"
   ]
  },
  {
   "cell_type": "code",
   "execution_count": 31,
   "metadata": {
    "slideshow": {
     "slide_type": "fragment"
    }
   },
   "outputs": [
    {
     "name": "stdout",
     "output_type": "stream",
     "text": [
      "0\n",
      "1\n",
      "Executing else\n",
      "For ended\n"
     ]
    }
   ],
   "source": [
    "# Loop `else` clause is executed when a loop ends without a break\n",
    "for i in range(2):\n",
    "    print(i)\n",
    "else:                          \n",
    "    print('Executing else')\n",
    "print('For ended')"
   ]
  },
  {
   "cell_type": "code",
   "execution_count": 32,
   "metadata": {
    "slideshow": {
     "slide_type": "subslide"
    }
   },
   "outputs": [
    {
     "name": "stdout",
     "output_type": "stream",
     "text": [
      "For ended\n"
     ]
    }
   ],
   "source": [
    "for i in range(2):\n",
    "    if i > 0:\n",
    "        break\n",
    "else:\n",
    "    print('Executing else')\n",
    "print('For ended')"
   ]
  },
  {
   "cell_type": "code",
   "execution_count": 33,
   "metadata": {
    "slideshow": {
     "slide_type": "subslide"
    }
   },
   "outputs": [
    {
     "name": "stdout",
     "output_type": "stream",
     "text": [
      "For ended\n"
     ]
    }
   ],
   "source": [
    "for i in range(2):\n",
    "    if i > 0:\n",
    "        break\n",
    "else:\n",
    "    print('Executing else')\n",
    "print('For ended')"
   ]
  },
  {
   "cell_type": "markdown",
   "metadata": {
    "slideshow": {
     "slide_type": "subslide"
    }
   },
   "source": [
    "## Practical assignment"
   ]
  },
  {
   "cell_type": "code",
   "execution_count": null,
   "metadata": {
    "slideshow": {
     "slide_type": "fragment"
    }
   },
   "outputs": [],
   "source": [
    "# T1: Help ATM to split a given amount into banknotes/coins.\n",
    "\n",
    "# Write a loop, which splits the given amount into biggest banknotes/coins, which can be used to split the amount\n",
    "# If it is not possible to split the amount the result should be False\n",
    "\n",
    "# For example:\n",
    "amount = 13\n",
    "banknotes = [1, 2, 5]\n",
    "# You should get\n",
    "result = [5, 5, 2, 1]\n",
    "\n",
    "# For example:\n",
    "amount = 13\n",
    "banknotes = [2, 5]\n",
    "# You should get\n",
    "result = False"
   ]
  },
  {
   "cell_type": "code",
   "execution_count": 34,
   "metadata": {
    "slideshow": {
     "slide_type": "fragment"
    }
   },
   "outputs": [
    {
     "name": "stdout",
     "output_type": "stream",
     "text": [
      "False\n",
      "True\n"
     ]
    }
   ],
   "source": [
    "# Note: every float number operation has a very small error, so you have to round the value using `round(<float>, <precision>)` \n",
    "# before comparing it. For example:\n",
    "print(0.1 + 0.1 + 0.1 == 0.3)\n",
    "print(round(0.1 + 0.1 + 0.1, 12) == 0.3)"
   ]
  },
  {
   "cell_type": "code",
   "execution_count": 3,
   "metadata": {
    "slideshow": {
     "slide_type": "fragment"
    }
   },
   "outputs": [],
   "source": [
    "# T2: Update the for loop to work with cents\n",
    "# For example:\n",
    "amount = 11.5\n",
    "banknotes = [0.5, 10, 1]\n",
    "# You should get\n",
    "result = [10, 1, 0.5]"
   ]
  },
  {
   "cell_type": "markdown",
   "metadata": {
    "slideshow": {
     "slide_type": "subslide"
    }
   },
   "source": [
    "### Dashboard of participants\n",
    "\n",
    "\n",
    "Every lecture a small challenge will be given and the progress of solving them are presented in: \n",
    " * http://learn-python-nwin.paas-dblan.danskenet.net/"
   ]
  },
  {
   "cell_type": "markdown",
   "metadata": {
    "slideshow": {
     "slide_type": "subslide"
    }
   },
   "source": [
    "### Practicall assignment progress\n",
    "\n",
    "\n",
    "The progress of the assignments can be seen at: \n",
    " * http://learn-python-nwin.paas-dblan.danskenet.net/"
   ]
  }
 ],
 "metadata": {
  "celltoolbar": "Slideshow",
  "kernelspec": {
   "display_name": "Python 3",
   "language": "python",
   "name": "python3"
  },
  "language_info": {
   "codemirror_mode": {
    "name": "ipython",
    "version": 3
   },
   "file_extension": ".py",
   "mimetype": "text/x-python",
   "name": "python",
   "nbconvert_exporter": "python",
   "pygments_lexer": "ipython3",
   "version": "3.7.3"
  }
 },
 "nbformat": 4,
 "nbformat_minor": 2
}
